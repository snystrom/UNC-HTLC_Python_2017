{
 "cells": [
  {
   "cell_type": "markdown",
   "metadata": {},
   "source": [
    "# Control Flow and File IO"
   ]
  },
  {
   "cell_type": "markdown",
   "metadata": {},
   "source": [
    "## Review\n",
    "\n",
    "### Data types and structures\n",
    "\n",
    "- Strings\n",
    "- Float \n",
    "- Integers\n",
    "- Boolean `True` `False`\n",
    "- Arrays (Lists) `[1, 2, 3, 4]`\n",
    "\n",
    "\n",
    "### Type conversion / type casting\n",
    "\n",
    "- To a string: `str(4)`\n",
    "- To an integer: \n"
   ]
  },
  {
   "cell_type": "code",
   "execution_count": 5,
   "metadata": {},
   "outputs": [
    {
     "name": "stdout",
     "output_type": "stream",
     "text": [
      "4\n",
      "4\n",
      "-5\n",
      "3.14\n"
     ]
    }
   ],
   "source": [
    "print(str(4))\n",
    "print(int('4'))\n",
    "print(int('-5'))\n",
    "print(float('3.14'))"
   ]
  },
  {
   "cell_type": "markdown",
   "metadata": {},
   "source": [
    "### Input and output\n",
    "\n",
    "Input from \"standard input\": `input()`\n",
    "\n",
    "### String formatting\n",
    "\n",
    "\n"
   ]
  },
  {
   "cell_type": "code",
   "execution_count": 12,
   "metadata": {},
   "outputs": [
    {
     "name": "stdout",
     "output_type": "stream",
     "text": [
      "Hello Mike, Mike, and Steve!\n",
      "Hello Mike, Kelly, and Kelly!\n"
     ]
    }
   ],
   "source": [
    "myName = \"Mike\"\n",
    "secondName = \"Steve\"\n",
    "thirdName = \"Kelly\"\n",
    "\n",
    "#print(\"Hello \" + myName)\n",
    "#print(\"Hello\", myName)\n",
    "\n",
    "print(\"Hello {0}, {0}, and {1}!\".format(myName, secondName))\n",
    "\n",
    "print(\"Hello {firstName}, {secondName}, and {thirdName}!\".format(\n",
    "    firstName = myName, secondName = \"Kelly\", thirdName = thirdName))\n",
    "\n",
    "\n",
    "\n",
    "\n",
    "\n",
    "\n",
    "\n",
    "\n",
    "\n",
    "\n",
    "\n",
    "\n",
    "\n",
    "\n",
    "\n",
    "\n"
   ]
  },
  {
   "cell_type": "code",
   "execution_count": 20,
   "metadata": {},
   "outputs": [
    {
     "data": {
      "text/plain": [
       "False"
      ]
     },
     "execution_count": 20,
     "metadata": {},
     "output_type": "execute_result"
    }
   ],
   "source": [
    "myName = \"mike\"\n",
    "hisName = \"steveLongName\"\n",
    "\n",
    "myName != myName\n",
    "\n"
   ]
  },
  {
   "cell_type": "code",
   "execution_count": null,
   "metadata": {
    "collapsed": true
   },
   "outputs": [],
   "source": [
    "\n",
    "\n",
    "\"My name is\".\n",
    "\n",
    "\"This is a string: {}\".format()\n",
    "\n",
    "\n",
    "\n",
    "\n",
    "\n",
    "\n"
   ]
  },
  {
   "cell_type": "markdown",
   "metadata": {},
   "source": [
    "### Vocab\n",
    "\n",
    "- **Object**: a structured way of storing data\n",
    "    - Simple objects store simple data: ints, floats, bools\n",
    "    - More complex objects store special data in an accessable way: strings, arrays, classes (we haven't talked about these yet)\n",
    "    - Objects can have member functions (functions that perform actions on that object)\n",
    "    \n",
    "    \n",
    "- **Variable**: a label representing data or an object\n",
    "    - `myName = 'mike'`\n",
    "\n",
    "\n",
    "- **Function (method)**: pre-defined statements that perform an action\n",
    "    - Take input\n",
    "    - Return output\n",
    "    - Can be members of objects\n",
    "    \n",
    "    \n",
    "- **Statement**: a line of code, combining objects and functions to perform an action\n",
    "    - Evaluates or computes an operation\n",
    "    - Print output\n",
    "    - Ask for input\n",
    "    - Control which statement comes next\n",
    "    \n",
    "    \n",
    "- **Program / Script / Algorithm**: a series of statements combining objects and functions in useful ways\n",
    "\n"
   ]
  },
  {
   "cell_type": "markdown",
   "metadata": {},
   "source": [
    "### Things to consider:\n",
    "\n",
    "#### COMMENTS and VARIABLES\n",
    "\n",
    "```python\n",
    "# this is a comment\n",
    "aVariable = \"not a comment\"\n",
    "\n",
    "# python is case sensitive\n",
    "Avariable = 5\n",
    "avAriable = 9\n",
    "\n",
    "# variables are often in camel case\n",
    "thisIsCamelCase = 25\n",
    "\n",
    "# dont start variables with an underscore\n",
    "# these often have special meanings\n",
    "__dontDoThis = 'not a great idea'\n",
    "\n",
    "# CANNOT start a variable with a number\n",
    "4names = ['mike', 'jerry', 'rachel', 'sally']\n",
    "\n",
    "# use descriptive variable names\n",
    "myAdvice = \"always use descriptive variable names!\"\n",
    "badAdvice = 3.14159\n",
    "\n",
    "# variables CANNOT be keywords\n",
    "TRUE   # not a keyword (but a bad variable name)\n",
    "True   # keyword\n",
    "if     # keyword\n",
    "not    # keyword\n",
    "try    # keyword\n",
    "class  # keyword\n",
    "# a good IDE will color keywords!\n",
    "```\n",
    "\n",
    "#### CODE BLOCKS and WHITE SPACE\n",
    "\n",
    "**White space in Python is VERY important**  \n",
    "\n",
    "Code blocks are denoted by leading white space\n",
    "\n",
    "```python\n",
    "if myVariable == True:\n",
    "    # this is the start of a code block\n",
    "    print(\"We are inside a code block!\")\n",
    "    print(\"This only prints if myVariable is True!\")\n",
    "    # this is the end of the code block\n",
    "print(\"Something else\")  # this is not in a code block!\n",
    "```\n",
    "\n",
    "- Code blocks start with a control statement followed by a colon (more on that shortly)\n",
    "- Subsiquent lines start with **4 spaces** or **1 tab**\n",
    "- Use tabs or spaces but not both\n",
    "- A good IDE will worry about this for you\n",
    "- What does Jupyter do when you hit tab?\n"
   ]
  },
  {
   "cell_type": "code",
   "execution_count": null,
   "metadata": {
    "collapsed": true
   },
   "outputs": [],
   "source": [
    "    # tab\n",
    "    "
   ]
  },
  {
   "cell_type": "markdown",
   "metadata": {},
   "source": [
    "## Control Flow (Flow of Control)\n",
    "\n",
    "A program or script is a recipe. We control how data is accessed or evaluated by writing that recipe. Once we execute that program, it's on its own! The program needs to be able to evaluate and control data without our constant intervention.  \n",
    "\n",
    "[Great tutorial](https://python.swaroopch.com/control_flow.html)  \n",
    "\n",
    "[Wiki on control flow](https://en.wikipedia.org/wiki/Control_flow)  \n",
    "\n",
    "\n",
    "\n",
    "<img src=\"images/For-loop-diagram.png\">"
   ]
  },
  {
   "cell_type": "markdown",
   "metadata": {
    "collapsed": true
   },
   "source": [
    "## If-else Blocks\n",
    "\n",
    "### Single blocks"
   ]
  },
  {
   "cell_type": "code",
   "execution_count": 24,
   "metadata": {},
   "outputs": [
    {
     "name": "stdout",
     "output_type": "stream",
     "text": [
      "It's Hot!\n",
      "It's Really Hot!\n"
     ]
    }
   ],
   "source": [
    "temp = 70\n",
    "\n",
    "#if temp > 80:\n",
    "#    print(\"It's Hot!\")\n",
    "\n",
    "\n",
    "if temp > 80:\n",
    "    print(\"It's Hot!\")\n",
    "if temp > 90:\n",
    "    print(\"It's Really Hot!\")\n",
    "else:\n",
    "    print(\"It's not hot.\")"
   ]
  },
  {
   "cell_type": "markdown",
   "metadata": {},
   "source": [
    "### Adding in an *else* statement"
   ]
  },
  {
   "cell_type": "code",
   "execution_count": 25,
   "metadata": {},
   "outputs": [
    {
     "name": "stdout",
     "output_type": "stream",
     "text": [
      "It's not hot.\n"
     ]
    }
   ],
   "source": [
    "temp= 70\n",
    "\n",
    "if temp > 80:\n",
    "    print(\"It's Hot!\")\n",
    "if temp > 90:\n",
    "    print(\"It's Really Hot!\")\n",
    "else:\n",
    "    print(\"It's not hot.\")"
   ]
  },
  {
   "cell_type": "markdown",
   "metadata": {},
   "source": [
    "### Combining *if* statements with *elif*"
   ]
  },
  {
   "cell_type": "code",
   "execution_count": 26,
   "metadata": {},
   "outputs": [
    {
     "name": "stdout",
     "output_type": "stream",
     "text": [
      "It's Hot!\n"
     ]
    }
   ],
   "source": [
    "temp= 95\n",
    "\n",
    "if temp > 80:\n",
    "    print(\"It's Hot!\")\n",
    "elif temp > 90:\n",
    "    print(\"It's Really Hot!\")\n",
    "else:\n",
    "    print(\"It's not hot.\")"
   ]
  },
  {
   "cell_type": "markdown",
   "metadata": {},
   "source": [
    "### Nesting *if* statements"
   ]
  },
  {
   "cell_type": "code",
   "execution_count": 31,
   "metadata": {},
   "outputs": [
    {
     "name": "stdout",
     "output_type": "stream",
     "text": [
      "It's not hot.\n",
      "Wear pants.\n",
      "Wear a sweatshirt.\n"
     ]
    }
   ],
   "source": [
    "temp = 65\n",
    "\n",
    "if temp > 80:\n",
    "    # code block 1 starts here\n",
    "    print(\"It's hot!\")\n",
    "    \n",
    "    if temp > 80:\n",
    "        print(\"Wear a T-shirt.\")\n",
    "    if temp > 90:\n",
    "        print(\"Wear shorts\")\n",
    "    # code block 1 ends here\n",
    "elif temp < 80:\n",
    "    print(\"It's not hot.\")\n",
    "    \n",
    "    if temp < 80:\n",
    "        print(\"Wear pants.\")\n",
    "    if temp < 70:\n",
    "        print(\"Wear a sweatshirt.\")\n",
    "\n",
    "else:\n",
    "    print(\"Its 80 degrees.\")\n",
    "\n",
    "\n",
    "\n",
    "\n",
    "\n",
    "\n",
    "\n",
    "\n"
   ]
  },
  {
   "cell_type": "markdown",
   "metadata": {},
   "source": [
    "### The *is* and *not* keywods"
   ]
  },
  {
   "cell_type": "code",
   "execution_count": 37,
   "metadata": {},
   "outputs": [
    {
     "name": "stdout",
     "output_type": "stream",
     "text": [
      "its not hot!\n"
     ]
    }
   ],
   "source": [
    "# is keyword works like ==\n",
    "\n",
    "weather = 35\n",
    "\n",
    "# is not keyword works like !=\n",
    "\n",
    "if weather is not 45:\n",
    "    print(\"its not hot!\")"
   ]
  },
  {
   "cell_type": "markdown",
   "metadata": {},
   "source": [
    "### Combining logical operations with *and* and *or*"
   ]
  },
  {
   "cell_type": "code",
   "execution_count": 44,
   "metadata": {},
   "outputs": [],
   "source": [
    "weather = \"cold\"\n",
    "temp = 85\n",
    "\n",
    "#if weather is \"hot\" or weather is \"humid\":\n",
    "#    print(\"It's hot. You should wear a T-shirt.\")\n",
    "    \n",
    "if ((weather is \"hot\") or (weather is \"humid\")) and (temp > 80):\n",
    "    print(\"You should wear shorts.\")"
   ]
  },
  {
   "cell_type": "markdown",
   "metadata": {},
   "source": [
    "## For Loops\n",
    "\n",
    "### The `for in` Statement"
   ]
  },
  {
   "cell_type": "code",
   "execution_count": 48,
   "metadata": {},
   "outputs": [
    {
     "name": "stdout",
     "output_type": "stream",
     "text": [
      "mike\n",
      "kelly\n",
      "jim\n",
      "steve\n",
      "steve\n"
     ]
    }
   ],
   "source": [
    "classmates = ['mike', 'kelly', 'jim', 'steve'] \n",
    "\n",
    "for name in classmates:\n",
    "    print(name)\n",
    "    #do something else\n",
    "    print()\n",
    "\n",
    "#print(name)"
   ]
  },
  {
   "cell_type": "code",
   "execution_count": 52,
   "metadata": {},
   "outputs": [
    {
     "name": "stdout",
     "output_type": "stream",
     "text": [
      "current number is 2\n",
      "currnet summation is 2\n",
      "current number is 6\n",
      "currnet summation is 8\n",
      "current number is 32\n",
      "currnet summation is 40\n",
      "current number is 3\n",
      "currnet summation is 43\n",
      "current number is 8\n",
      "currnet summation is 51\n",
      "The grand total is: 51\n"
     ]
    }
   ],
   "source": [
    "numbers = [2, 6, 32, 3, 8]\n",
    "summation = 0\n",
    "\n",
    "for num in numbers:\n",
    "    #for loop block\n",
    "    print(\"current number is {}\".format(num))\n",
    "    \n",
    "    summation = summation + num\n",
    "    \n",
    "    print(\"currnet summation is {}\".format(summation))\n",
    "    #end of for loop block\n",
    "    \n",
    "#not in the for loop\n",
    "print(\"The grand total is: {}\".format(summation))"
   ]
  },
  {
   "cell_type": "markdown",
   "metadata": {},
   "source": [
    "### The `range()` Function"
   ]
  },
  {
   "cell_type": "code",
   "execution_count": null,
   "metadata": {
    "collapsed": true
   },
   "outputs": [],
   "source": []
  },
  {
   "cell_type": "code",
   "execution_count": null,
   "metadata": {
    "collapsed": true
   },
   "outputs": [],
   "source": []
  }
 ],
 "metadata": {
  "kernelspec": {
   "display_name": "Python [default]",
   "language": "python",
   "name": "python3"
  },
  "language_info": {
   "codemirror_mode": {
    "name": "ipython",
    "version": 3
   },
   "file_extension": ".py",
   "mimetype": "text/x-python",
   "name": "python",
   "nbconvert_exporter": "python",
   "pygments_lexer": "ipython3",
   "version": "3.6.1"
  }
 },
 "nbformat": 4,
 "nbformat_minor": 2
}
