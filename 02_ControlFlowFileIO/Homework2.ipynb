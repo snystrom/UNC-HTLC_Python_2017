{
 "cells": [
  {
   "cell_type": "markdown",
   "metadata": {},
   "source": [
    "## Homework 2\n",
    "\n",
    "Write a program which asks the user for n numbers. Use a for-loop to read in those numbers 1 at a time, storing them in a list. Use a second for-loop to sum the numbers. Report the list of numbers and the total.\n",
    "\n",
    "### Sample output\n",
    "\n",
    "```\n",
    "How many numbers to sum: 3\n",
    "Input number 0: 3\n",
    "Input number 1: 5\n",
    "Input number 2: 2\n",
    "Your list of numbers: [3, 5, 2]\n",
    "Sum total of your numbers: 10\n",
    "```\n",
    "\n",
    "### Extra credit\n",
    "\n",
    "- What happens if you input floating point numbers?\n",
    "- What happens if you input a word instead of a string?\n",
    "- How can we guard against errors?"
   ]
  },
  {
   "cell_type": "code",
   "execution_count": null,
   "metadata": {
    "collapsed": true
   },
   "outputs": [],
   "source": []
  }
 ],
 "metadata": {
  "kernelspec": {
   "display_name": "Python [conda root]",
   "language": "python",
   "name": "conda-root-py"
  },
  "language_info": {
   "codemirror_mode": {
    "name": "ipython",
    "version": 3
   },
   "file_extension": ".py",
   "mimetype": "text/x-python",
   "name": "python",
   "nbconvert_exporter": "python",
   "pygments_lexer": "ipython3",
   "version": "3.6.1"
  }
 },
 "nbformat": 4,
 "nbformat_minor": 2
}
