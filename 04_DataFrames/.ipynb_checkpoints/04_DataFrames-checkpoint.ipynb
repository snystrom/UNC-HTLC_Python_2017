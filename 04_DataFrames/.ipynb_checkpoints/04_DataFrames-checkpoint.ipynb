{
 "cells": [
  {
   "cell_type": "code",
   "execution_count": 1,
   "metadata": {
    "collapsed": false
   },
   "outputs": [
    {
     "name": "stdout",
     "output_type": "stream",
     "text": [
      "Populating the interactive namespace from numpy and matplotlib\n"
     ]
    }
   ],
   "source": [
    "# Ignore these lines, they're only for my JupyterNotebook:\n",
    "%matplotlib inline\n",
    "%pylab inline"
   ]
  },
  {
   "cell_type": "markdown",
   "metadata": {},
   "source": [
    "# Outline\n",
    "1. Review HW\n",
    "1. Previous class example, now with DataFrame!\n",
    "1. introduce dataframe concepts (head, tail, working with & indexing columns, etc)\n",
    "1. Intro to plotting with seaborn (quick), we'll discuss more later\n",
    "1. Now work with files in the context of getting them ready to convert to dataframes"
   ]
  },
  {
   "cell_type": "markdown",
   "metadata": {},
   "source": [
    "# Pandas Data Frames\n",
    "\n",
    "**Pandas** is a library that implements a new datastructure called a **Data Frame**.\n",
    "\n",
    "**Data Frames** are broken up into columns and rows, where each column (or **Series**) describes a different data type for each observation (rows)\n",
    "\n",
    "\n",
    "\n",
    "See the documentation here for tutorials and more information:\n",
    "<http://pandas.pydata.org/pandas-docs/stable/>"
   ]
  },
  {
   "cell_type": "markdown",
   "metadata": {},
   "source": [
    "## Importing Libraries\n",
    "\n",
    "Libraries are external packages of code that define a new set of functions outside of the python defaults.\n",
    "\n",
    "The new functions (Methods) are accessed just like how methods of builtin datatypes are accessed: \n",
    "`library.method()`\n"
   ]
  },
  {
   "cell_type": "code",
   "execution_count": 2,
   "metadata": {
    "collapsed": true
   },
   "outputs": [],
   "source": [
    "import pandas as pd # The import statement tells python to load an external library\n",
    "                    # The 'as' function tells python to refer to that library as the shortcut you give it\n",
    "    \n",
    "import pandas as WHATEVER # This is just as valid as before, but typically libraries have standard abbreviations"
   ]
  },
  {
   "cell_type": "code",
   "execution_count": 3,
   "metadata": {
    "collapsed": false
   },
   "outputs": [
    {
     "name": "stdout",
     "output_type": "stream",
     "text": [
      "This is the raw data\n",
      "\n",
      "[[ 1.43261707  1.04520639  0.42714779 -0.70972979]\n",
      " [-0.19899686  0.04921483  0.12083311  0.27059576]\n",
      " [-0.63875796  0.27979536  2.16807743 -0.14131371]\n",
      " [ 0.69501084 -0.36440876  0.89245091 -0.62367098]\n",
      " [-1.13845245  0.16906367 -0.46247768  1.52613583]\n",
      " [ 0.21765391  1.31656984 -0.20821134 -0.84993725]]\n",
      "\n",
      "\n",
      "This is the data as a data frame\n",
      "\n",
      "          A         B         C         D\n",
      "0  1.432617  1.045206  0.427148 -0.709730\n",
      "1 -0.198997  0.049215  0.120833  0.270596\n",
      "2 -0.638758  0.279795  2.168077 -0.141314\n",
      "3  0.695011 -0.364409  0.892451 -0.623671\n",
      "4 -1.138452  0.169064 -0.462478  1.526136\n",
      "5  0.217654  1.316570 -0.208211 -0.849937\n"
     ]
    }
   ],
   "source": [
    "import pandas as pd \n",
    "import numpy as np\n",
    "\n",
    "data = np.random.randn(6, 4) # using numpy to generate random data\n",
    "print('This is the raw data\\n')\n",
    "print(data)\n",
    "print('\\n')\n",
    "\n",
    "df = pd.DataFrame(data, columns=list('ABCD')) \n",
    "\n",
    "# This is a dataframe\n",
    "print('This is the data as a data frame\\n')\n",
    "print(df) "
   ]
  },
  {
   "cell_type": "code",
   "execution_count": 4,
   "metadata": {
    "collapsed": false
   },
   "outputs": [
    {
     "name": "stdout",
     "output_type": "stream",
     "text": [
      "0    1.432617\n",
      "1   -0.198997\n",
      "2   -0.638758\n",
      "3    0.695011\n",
      "4   -1.138452\n",
      "5    0.217654\n",
      "Name: A, dtype: float64\n",
      "0    1.432617\n",
      "1   -0.198997\n",
      "2   -0.638758\n",
      "3    0.695011\n",
      "4   -1.138452\n",
      "5    0.217654\n",
      "Name: A, dtype: float64\n"
     ]
    }
   ],
   "source": [
    "# Columns in dataframes can be accessed in two ways:\n",
    "print(df.A)\n",
    "print(df['A'])"
   ]
  },
  {
   "cell_type": "code",
   "execution_count": 5,
   "metadata": {
    "collapsed": false
   },
   "outputs": [
    {
     "name": "stdout",
     "output_type": "stream",
     "text": [
      "          A         B         C         D   product\n",
      "0  1.432617  1.045206  0.427148 -0.709730  1.497381\n",
      "1 -0.198997  0.049215  0.120833  0.270596 -0.009794\n",
      "2 -0.638758  0.279795  2.168077 -0.141314 -0.178722\n",
      "3  0.695011 -0.364409  0.892451 -0.623671 -0.253268\n",
      "4 -1.138452  0.169064 -0.462478  1.526136 -0.192471\n",
      "5  0.217654  1.316570 -0.208211 -0.849937  0.286557\n",
      "\n",
      "\n",
      "          A         B         C         D   product\n",
      "0  1.432617  1.045206  0.427148 -0.709730  1.497381\n",
      "1 -0.198997  0.049215  0.120833  0.270596 -0.009794\n",
      "2 -0.638758  0.279795  2.168077 -0.141314 -0.178722\n",
      "3  0.695011 -0.364409  0.892451 -0.623671 -0.253268\n",
      "4 -1.138452  0.169064 -0.462478  1.526136 -0.192471\n",
      "5  0.217654  1.316570 -0.208211 -0.849937  0.286557\n",
      "\n",
      "\n",
      " 0    1.497381\n",
      "1   -0.009794\n",
      "2   -0.178722\n",
      "3   -0.253268\n",
      "4   -0.192471\n",
      "5    0.286557\n",
      "dtype: float64\n"
     ]
    }
   ],
   "source": [
    "# Columns can be created quickly:\n",
    "\n",
    "df['product'] = df.A * df.B # New columns must be called by name \n",
    "print(df)\n",
    "\n",
    "print('\\n')\n",
    "\n",
    "df.test = df.A * df.B # This does not work as expected. It outputs to a variable called df.test instead!\n",
    "print(df)\n",
    "print('\\n\\n {0}'.format(df.test))"
   ]
  },
  {
   "cell_type": "markdown",
   "metadata": {},
   "source": [
    "# Chip-seq example\n",
    "\n",
    "Data frames are powerful because they can be easily created from common delimited text files, like tab or comma separated value files.\n",
    "\n",
    "Pandas has built-in methods for reading csv or other types of plaintext files directly into dataframes!"
   ]
  },
  {
   "cell_type": "markdown",
   "metadata": {},
   "source": [
    "# Recall...\n",
    "\n"
   ]
  },
  {
   "cell_type": "code",
   "execution_count": 6,
   "metadata": {
    "collapsed": false
   },
   "outputs": [
    {
     "name": "stdout",
     "output_type": "stream",
     "text": [
      "Average size of bound peaks: 60.0 bp\n",
      "Average size of unbound peaks: 767.0 bp\n"
     ]
    }
   ],
   "source": [
    "bed = open('../03_FileManipulation/Data/chip-seq.bed', 'r')\n",
    "entries = bed.readlines()\n",
    "bed.close()\n",
    "\n",
    "# Column names assigned to 'col' dictionary to make indexing more human-readable\n",
    "col = {'chr':0, 'start':1, 'end':2, 'behavior':3, 'bound':4}\n",
    "\n",
    "bedList = []\n",
    "for line in entries:\n",
    "    peak = line.rstrip().split('\\t') \n",
    "    bedList.append(peak)\n",
    "\n",
    "boundPeaks = []\n",
    "unboundPeaks = []\n",
    "for peak in bedList:\n",
    "    if peak[col['bound']] == 'bound':\n",
    "        boundPeaks.append(peak)\n",
    "    elif peak[col['bound']] == 'unbound':\n",
    "        unboundPeaks.append(peak)\n",
    "    else:\n",
    "        print(peak)\n",
    "        print('ERROR! No peak Binding data') \n",
    " \n",
    "def getMeanWidths(peaks, colNames):\n",
    "    widths = []\n",
    "    for peak in peaks:\n",
    "        start = int(peak[colNames['start']])\n",
    "        end = int(peak[colNames['end']])\n",
    "        width = end - start\n",
    "        widths.append(width)\n",
    "        \n",
    "    meanWidth = sum(widths) / len(widths)\n",
    "    return(meanWidth)\n",
    "        \n",
    "    \n",
    "meanBound = getMeanWidths(boundPeaks, col) \n",
    "meanUnbound = getMeanWidths(unboundPeaks, col)\n",
    "\n",
    "print('Average size of bound peaks: {0} bp'.format(round(meanBound)))\n",
    "print('Average size of unbound peaks: {0} bp'.format(round(meanUnbound)))"
   ]
  },
  {
   "cell_type": "markdown",
   "metadata": {},
   "source": [
    "# Now with Pandas..."
   ]
  },
  {
   "cell_type": "code",
   "execution_count": 7,
   "metadata": {
    "collapsed": false
   },
   "outputs": [
    {
     "name": "stdout",
     "output_type": "stream",
     "text": [
      "unbound peak width: 767\n",
      "bound peak width: 60\n"
     ]
    }
   ],
   "source": [
    "import pandas as pd \n",
    "\n",
    "colNames = ['chr', 'start', 'end', 'behavior', 'bound'] # Names of each column of the bed file\n",
    "\n",
    "# Call the `read_table()` function from the pandas library\n",
    "# sep tells pandas what the separator is, here it is a tab\n",
    "# names tells pandas what to name each series (column) otherwise it will use the first line of the file\n",
    "bed = pd.read_table(\"../03_FileManipulation/Data/chip-seq.bed\", sep = '\\t', names = colNames)    \n",
    "\n",
    "bed['width'] = bed.end - bed.start # Calculate width of each region\n",
    "\n",
    "for peakType in bed.bound.unique():\n",
    "    widths = bed[bed['bound'] == peakType].width # select the widths from the data of a given peaktype\n",
    "    meanWidth = widths.mean()                    # use the mean() method to calculate the mean peak width\n",
    "    print('{0} peak width: {1}'.format(peakType, round(meanWidth)))"
   ]
  },
  {
   "cell_type": "markdown",
   "metadata": {},
   "source": [
    "# Plotting with Seaborn\n",
    "\n",
    "<https://seaborn.pydata.org/>\n",
    "\n",
    "**Seaborn** is a python library for plotting data in dataframes! It works with Pandas to make nice graphs with sensible defaults!"
   ]
  },
  {
   "cell_type": "code",
   "execution_count": 13,
   "metadata": {
    "collapsed": false
   },
   "outputs": [
    {
     "data": {
      "text/plain": [
       "<matplotlib.axes._subplots.AxesSubplot at 0x7f604d5c6be0>"
      ]
     },
     "execution_count": 13,
     "metadata": {},
     "output_type": "execute_result"
    },
    {
     "data": {
      "image/png": "[encoded data removed]",
      "text/plain": [
       "<matplotlib.figure.Figure at 0x7f604d5c6278>"
      ]
     },
     "metadata": {},
     "output_type": "display_data"
    }
   ],
   "source": [
    "import seaborn as sns\n",
    "sns.set_context(\"notebook\", font_scale=1.5) # resizing plot components \n",
    "\n",
    "plt.figure(figsize(7.5, 10)) # Resize figure width x height\n",
    "\n",
    "sns.boxplot(x = bed.bound, y = bed.width)"
   ]
  },
  {
   "cell_type": "markdown",
   "metadata": {},
   "source": [
    "# do bound vs. unbound peaks open/close/remain static?"
   ]
  },
  {
   "cell_type": "code",
   "execution_count": 12,
   "metadata": {
    "collapsed": false
   },
   "outputs": [
    {
     "data": {
      "text/plain": [
       "<matplotlib.axes._subplots.AxesSubplot at 0x7f604d615320>"
      ]
     },
     "execution_count": 12,
     "metadata": {},
     "output_type": "execute_result"
    },
    {
     "data": {
      "image/png": "[encoded data removed]",
      "text/plain": [
       "<matplotlib.figure.Figure at 0x7f604d615390>"
      ]
     },
     "metadata": {},
     "output_type": "display_data"
    }
   ],
   "source": [
    "plt.figure(figsize=(10,7.5)) # resize figure\n",
    "plt.title('Behavior of bound vs. unbound sites')\n",
    "sns.countplot(x = 'bound', hue = 'behavior', data = bed, palette='pastel')"
   ]
  },
  {
   "cell_type": "markdown",
   "metadata": {},
   "source": [
    "# Now do some examples with data \n",
    "\n",
    "Bioanalyzer example?"
   ]
  },
  {
   "cell_type": "code",
   "execution_count": 10,
   "metadata": {
    "collapsed": false
   },
   "outputs": [],
   "source": [
    "bioData = open('Data/Bioanalyzer.csv', 'r')\n",
    "bioData.close() "
   ]
  }
 ],
 "metadata": {
  "kernelspec": {
   "display_name": "Python 3",
   "language": "python",
   "name": "python3"
  },
  "language_info": {
   "codemirror_mode": {
    "name": "ipython",
    "version": 3
   },
   "file_extension": ".py",
   "mimetype": "text/x-python",
   "name": "python",
   "nbconvert_exporter": "python",
   "pygments_lexer": "ipython3",
   "version": "3.6.0"
  }
 },
 "nbformat": 4,
 "nbformat_minor": 2
}
