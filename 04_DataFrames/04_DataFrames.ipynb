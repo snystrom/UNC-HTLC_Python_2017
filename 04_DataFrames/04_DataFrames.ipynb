{
 "cells": [
  {
   "cell_type": "markdown",
   "metadata": {},
   "source": [
    "# Outline\n",
    "1. Review HW\n",
    "1. Previous class example, now with DataFrame!\n",
    "1. introduce dataframe concepts (head, tail, working with & indexing columns, etc)\n",
    "1. Now work with files in the context of getting them ready to convert to dataframes"
   ]
  },
  {
   "cell_type": "markdown",
   "metadata": {},
   "source": [
    "# Recall..."
   ]
  },
  {
   "cell_type": "code",
   "execution_count": 9,
   "metadata": {},
   "outputs": [
    {
     "name": "stdout",
     "output_type": "stream",
     "text": [
      "Average size of bound peaks: 60 bp\n",
      "Average size of unbound peaks: 767 bp\n"
     ]
    }
   ],
   "source": [
    "bed = open('../03_FileManipulation/Data/chip-seq.bed', 'r')\n",
    "entries = bed.readlines()\n",
    "bed.close()\n",
    "\n",
    "# Column names assigned to 'col' dictionary to make indexing more human-readable\n",
    "col = {'chr':0, 'start':1, 'end':2, 'behavior':3, 'bound':4}\n",
    "\n",
    "bedList = []\n",
    "for line in entries:\n",
    "    peak = line.rstrip().split('\\t') \n",
    "    bedList.append(peak)\n",
    "\n",
    "boundPeaks = []\n",
    "unboundPeaks = []\n",
    "for peak in bedList:\n",
    "    if peak[col['bound']] == 'bound':\n",
    "        boundPeaks.append(peak)\n",
    "    elif peak[col['bound']] == 'unbound':\n",
    "        unboundPeaks.append(peak)\n",
    "    else:\n",
    "        print(peak)\n",
    "        print('ERROR! No peak Binding data') \n",
    "        \n",
    "boundWidth = []\n",
    "unboundWidth = []\n",
    "\n",
    "for bound, unbound in zip(boundPeaks, unboundPeaks):\n",
    "    start = int(bound[col['start']])\n",
    "    end = int(bound[col['end']])\n",
    "    width = end - start\n",
    "    boundWidth.append(width)\n",
    "    \n",
    "    start = int(unbound[col['start']])\n",
    "    end = int(unbound[col['end']])\n",
    "    width = end - start\n",
    "    unboundWidth.append(width)\n",
    "    \n",
    "meanBound = sum(boundWidth)/len(boundWidth)\n",
    "meanUnbound = sum(unboundWidth)/len(unboundWidth)\n",
    "\n",
    "print('Average size of bound peaks: {0} bp'.format(round(meanBound)))\n",
    "print('Average size of unbound peaks: {0} bp'.format(round(meanUnbound)))"
   ]
  },
  {
   "cell_type": "markdown",
   "metadata": {},
   "source": [
    "# Pandas Data Frames\n",
    "Now let's make that way easier with a library!"
   ]
  },
  {
   "cell_type": "code",
   "execution_count": 7,
   "metadata": {},
   "outputs": [
    {
     "name": "stdout",
     "output_type": "stream",
     "text": [
      "unbound peak width: 767.0\n",
      "bound peak width: 60.0\n"
     ]
    },
    {
     "data": {
      "text/plain": [
       "767.32203389830511"
      ]
     },
     "execution_count": 7,
     "metadata": {},
     "output_type": "execute_result"
    }
   ],
   "source": [
    "import pandas as pd\n",
    "\n",
    "def mean(x):\n",
    "    mean = sum(x)/len(x)\n",
    "    return(mean)\n",
    "\n",
    "colNames = ['chr', 'start', 'end', 'behavior', 'bound']\n",
    "bed = pd.read_table(\"../03_FileManipulation/Data/chip-seq.bed\", sep = '\\t', names = colNames)    \n",
    "\n",
    "bed['width'] = bed.end - bed.start\n",
    "\n",
    "\n",
    "meanWidths = {'bound':0, 'unbound':0}\n",
    "\n",
    "for peakType in meanWidths: \n",
    "    meanWidth = mean(bed[bed['bound'] == peakType].width)\n",
    "    meanWidths[peakType] = meanWidth # This is how to store values in dict for later!\n",
    "    print('{0} peak width: {1}'.format(peakType, round(meanWidth)))\n",
    "    \n",
    "unW = bed[bed['bound'] == 'unbound'].width\n",
    "sum(unW)/len(unW)"
   ]
  }
 ],
 "metadata": {
  "kernelspec": {
   "display_name": "Python 3",
   "language": "python",
   "name": "python3"
  },
  "language_info": {
   "codemirror_mode": {
    "name": "ipython",
    "version": 3
   },
   "file_extension": ".py",
   "mimetype": "text/x-python",
   "name": "python",
   "nbconvert_exporter": "python",
   "pygments_lexer": "ipython3",
   "version": "3.5.3"
  }
 },
 "nbformat": 4,
 "nbformat_minor": 2
}
