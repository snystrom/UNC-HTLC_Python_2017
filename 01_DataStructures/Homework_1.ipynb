{
 "cells": [
  {
   "cell_type": "markdown",
   "metadata": {},
   "source": [
    "# Homework 1\n",
    "\n",
    "## Temperature converter\n",
    "\n",
    "Write a script that takes user input to convert degrees in one temperature unit to the other two units. i.e. If the input is in Celcius, output the temperature in Farenheit and Kelvin, etc.\n",
    "\n",
    "Be sure your script checks that the user has input a valid entry, return an error otherwise! (What types of input errors could a person make?)\n",
    "\n",
    "**Hint:**\n",
    " - Use two `input()` functions to get the temperature value and the unit. We will discuss more advanced ways of collecting input later in the course.\n",
    " - Format the output however you want. Just as long as your script can get the math and the units correct.\n",
    " \n",
    "### Example:\n"
   ]
  },
  {
   "cell_type": "raw",
   "metadata": {},
   "source": [
    "Temperature: 0\n",
    "Unit: Celcius\n",
    "\n",
    "0 Celcius is 273.15 Kelvin, or 32 Farenheit"
   ]
  }
 ],
 "metadata": {
  "kernelspec": {
   "display_name": "Python 3",
   "language": "python",
   "name": "python3"
  },
  "language_info": {
   "codemirror_mode": {
    "name": "ipython",
    "version": 3
   },
   "file_extension": ".py",
   "mimetype": "text/x-python",
   "name": "python",
   "nbconvert_exporter": "python",
   "pygments_lexer": "ipython3",
   "version": "3.6.0"
  }
 },
 "nbformat": 4,
 "nbformat_minor": 2
}
