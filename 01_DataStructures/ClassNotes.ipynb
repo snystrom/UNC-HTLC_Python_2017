{
 "cells": [
  {
   "cell_type": "code",
   "execution_count": 27,
   "metadata": {},
   "outputs": [
    {
     "name": "stdout",
     "output_type": "stream",
     "text": [
      "Hello world\n"
     ]
    }
   ],
   "source": [
    "print('Hello world')"
   ]
  },
  {
   "cell_type": "code",
   "execution_count": 28,
   "metadata": {},
   "outputs": [
    {
     "data": {
      "text/plain": [
       "4"
      ]
     },
     "execution_count": 28,
     "metadata": {},
     "output_type": "execute_result"
    }
   ],
   "source": [
    "myVar = 2\n",
    "\n",
    "myVar + 2"
   ]
  },
  {
   "cell_type": "code",
   "execution_count": 29,
   "metadata": {},
   "outputs": [
    {
     "name": "stdout",
     "output_type": "stream",
     "text": [
      "Hello myName\n",
      "Hellobob\n",
      "Hello bob\n"
     ]
    }
   ],
   "source": [
    "myName = 'bob'\n",
    "\n",
    "print('Hello myName')\n",
    "print('Hello' + myName)\n",
    "print('Hello ' + myName)"
   ]
  },
  {
   "cell_type": "markdown",
   "metadata": {},
   "source": [
    "# myName.py"
   ]
  },
  {
   "cell_type": "code",
   "execution_count": 28,
   "metadata": {},
   "outputs": [
    {
     "name": "stdout",
     "output_type": "stream",
     "text": [
      "What is your name? bob\n",
      "Hello bob\n",
      "What is your age? 2000000\n",
      "What year were you born?1\n",
      "You are younger than 2000000\n"
     ]
    }
   ],
   "source": [
    "myName = input(\"What is your name? \")\n",
    "print('Hello ' + myName)\n",
    "\n",
    "myAge = int(input(\"What is your age? \"))\n",
    "currentYear = 2017\n",
    "\n",
    "birthday = int(input(\"What year were you born?\"))\n",
    "\n",
    "birthYear = currentYear - myAge\n",
    "\n",
    "\n",
    "if(birthday == birthYear):\n",
    "    print(\"{name} was born in {year}\".format(name = myName, year = birthYear))\n",
    "if(birthYear > birthday):\n",
    "    print(\"You are older than {0}\".format(myAge))\n",
    "if(birthYear < birthday):\n",
    "    print(\"You are younger than {0}\".format(myAge))\n"
   ]
  },
  {
   "cell_type": "markdown",
   "metadata": {},
   "source": [
    "# Data Structures"
   ]
  },
  {
   "cell_type": "code",
   "execution_count": 33,
   "metadata": {},
   "outputs": [
    {
     "name": "stdout",
     "output_type": "stream",
     "text": [
      "2\n",
      "1\n",
      "three\n"
     ]
    }
   ],
   "source": [
    "myArray = [1, 2, 3, 4, 5]\n",
    "\n",
    "# Arrays are 0 indexed\n",
    "print(myArray[1])\n",
    "print(myArray[0])\n",
    "\n",
    "myArray = [1, 2, 'three']"
   ]
  },
  {
   "cell_type": "code",
   "execution_count": 37,
   "metadata": {},
   "outputs": [
    {
     "name": "stdout",
     "output_type": "stream",
     "text": [
      "h\n",
      "!\n",
      "hell\n",
      "hello\n"
     ]
    }
   ],
   "source": [
    "myString = 'hello world!'\n",
    "print(myString[0])\n",
    "print(myString[-1])\n",
    "print(myString[0:4])\n",
    "print(myString[0:5])"
   ]
  },
  {
   "cell_type": "code",
   "execution_count": 44,
   "metadata": {},
   "outputs": [
    {
     "name": "stdout",
     "output_type": "stream",
     "text": [
      "text {0}\n",
      "text hello\n"
     ]
    }
   ],
   "source": [
    "myString = \"text {0}\"\n",
    "print(myString)\n",
    "print(myString.format('hello'))\n"
   ]
  },
  {
   "cell_type": "code",
   "execution_count": 49,
   "metadata": {},
   "outputs": [
    {
     "data": {
      "text/plain": [
       "['hello', 'world', 'new', 'words', 'go', 'here!']"
      ]
     },
     "execution_count": 49,
     "metadata": {},
     "output_type": "execute_result"
    }
   ],
   "source": [
    "myString = \"hello,world,new,words,go,here!\"\n",
    "myString.split(',')\n"
   ]
  },
  {
   "cell_type": "code",
   "execution_count": 51,
   "metadata": {},
   "outputs": [
    {
     "data": {
      "text/plain": [
       "['hello ', ' new words go here!']"
      ]
     },
     "execution_count": 51,
     "metadata": {},
     "output_type": "execute_result"
    }
   ],
   "source": [
    "myString = \"hello world new words go here!\"\n",
    "myString.split('world')"
   ]
  },
  {
   "cell_type": "code",
   "execution_count": 42,
   "metadata": {},
   "outputs": [
    {
     "name": "stdout",
     "output_type": "stream",
     "text": [
      "text {0}\n",
      "text hello\n"
     ]
    },
    {
     "data": {
      "text/plain": [
       "['hello', 'world!']"
      ]
     },
     "execution_count": 42,
     "metadata": {},
     "output_type": "execute_result"
    }
   ],
   "source": [
    "myString = \"text {0}\"\n",
    "print(myString)\n",
    "print(myString.format('hello'))\n",
    "\n",
    "myString = \"hello world!\"\n",
    "myString.split()"
   ]
  },
  {
   "cell_type": "markdown",
   "metadata": {},
   "source": [
    "# If else statements"
   ]
  },
  {
   "cell_type": "code",
   "execution_count": 17,
   "metadata": {},
   "outputs": [
    {
     "name": "stdout",
     "output_type": "stream",
     "text": [
      "Meow!\n"
     ]
    }
   ],
   "source": [
    "animal = \"cat\"\n",
    "\n",
    "if(animal == \"cow\"):\n",
    "    print(\"Moo!\")\n",
    "if(animal == \"cat\"):\n",
    "    print(\"Meow!\")\n",
    "else:\n",
    "    print(\"I don't know what that animal is\")\n",
    "\n",
    "\n"
   ]
  },
  {
   "cell_type": "code",
   "execution_count": 24,
   "metadata": {},
   "outputs": [
    {
     "name": "stdout",
     "output_type": "stream",
     "text": [
      "True\n",
      "False\n",
      "True\n",
      "False\n",
      "True\n"
     ]
    }
   ],
   "source": [
    "animal = \"cat\"\n",
    "print(animal == \"cat\")\n",
    "print(animal != \"cat\")\n",
    "\n",
    "myNumber = 20\n",
    "print(myNumber > 10)\n",
    "print(myNumber < 10)\n",
    "print(myNumber >= 20)"
   ]
  },
  {
   "cell_type": "markdown",
   "metadata": {},
   "source": [
    "# String Formatting"
   ]
  },
  {
   "cell_type": "code",
   "execution_count": 6,
   "metadata": {},
   "outputs": [
    {
     "name": "stdout",
     "output_type": "stream",
     "text": [
      "Hello, World! Here is a number: 21\n",
      "Hello, World! Here is a number: 21\n"
     ]
    }
   ],
   "source": [
    "textToPrint = 'World'\n",
    "aNumber = 21 \n",
    "print(\"Hello, {printText}! Here is a number: {number}\".format(printText = textToPrint, number = aNumber))\n",
    "print(\"Hello, {0}! Here is a number: {1}\".format(textToPrint, aNumber))"
   ]
  },
  {
   "cell_type": "markdown",
   "metadata": {},
   "source": [
    "# Datatypes"
   ]
  },
  {
   "cell_type": "code",
   "execution_count": 31,
   "metadata": {},
   "outputs": [
    {
     "data": {
      "text/plain": [
       "str"
      ]
     },
     "execution_count": 31,
     "metadata": {},
     "output_type": "execute_result"
    }
   ],
   "source": [
    "myInt = 21\n",
    "type(myInt)\n",
    "type(str(myInt))"
   ]
  },
  {
   "cell_type": "code",
   "execution_count": 32,
   "metadata": {},
   "outputs": [
    {
     "ename": "ValueError",
     "evalue": "invalid literal for int() with base 10: 'strings are text'",
     "output_type": "error",
     "traceback": [
      "\u001b[1;31m---------------------------------------------------------------------------\u001b[0m",
      "\u001b[1;31mValueError\u001b[0m                                Traceback (most recent call last)",
      "\u001b[1;32m<ipython-input-32-103176df80d9>\u001b[0m in \u001b[0;36m<module>\u001b[1;34m()\u001b[0m\n\u001b[0;32m      1\u001b[0m \u001b[0mmyString\u001b[0m \u001b[1;33m=\u001b[0m \u001b[1;34m'strings are text'\u001b[0m\u001b[1;33m\u001b[0m\u001b[0m\n\u001b[0;32m      2\u001b[0m \u001b[0mtype\u001b[0m\u001b[1;33m(\u001b[0m\u001b[0mmyString\u001b[0m\u001b[1;33m)\u001b[0m\u001b[1;33m\u001b[0m\u001b[0m\n\u001b[1;32m----> 3\u001b[1;33m \u001b[0mint\u001b[0m\u001b[1;33m(\u001b[0m\u001b[0mmyString\u001b[0m\u001b[1;33m)\u001b[0m\u001b[1;33m\u001b[0m\u001b[0m\n\u001b[0m",
      "\u001b[1;31mValueError\u001b[0m: invalid literal for int() with base 10: 'strings are text'"
     ]
    }
   ],
   "source": [
    "myString = 'strings are text'\n",
    "type(myString)"
   ]
  },
  {
   "cell_type": "code",
   "execution_count": null,
   "metadata": {
    "collapsed": true
   },
   "outputs": [],
   "source": [
    "myFloat = 2.3 \n",
    "type(myFloat)"
   ]
  },
  {
   "cell_type": "code",
   "execution_count": 6,
   "metadata": {},
   "outputs": [
    {
     "name": "stdout",
     "output_type": "stream",
     "text": [
      "Hello, World! Here is a number: 21\n",
      "Hello, World! Here is a number: 21\n"
     ]
    }
   ],
   "source": [
    "textToPrint = 'World'\n",
    "aNumber = 21 \n",
    "print(\"Hello, {printText}! Here is a number: {number}\".format(printText = textToPrint, number = aNumber))\n",
    "print(\"Hello, {0}! Here is a number: {1}\".format(textToPrint, aNumber))"
   ]
  },
  {
   "cell_type": "markdown",
   "metadata": {},
   "source": [
    "# String Formatting"
   ]
  },
  {
   "cell_type": "markdown",
   "metadata": {},
   "source": [
    " I can type notes ehre\n",
    " "
   ]
  }
 ],
 "metadata": {
  "kernelspec": {
   "display_name": "Python 3",
   "language": "python",
   "name": "python3"
  },
  "language_info": {
   "codemirror_mode": {
    "name": "ipython",
    "version": 3
   },
   "file_extension": ".py",
   "mimetype": "text/x-python",
   "name": "python",
   "nbconvert_exporter": "python",
   "pygments_lexer": "ipython3",
   "version": "3.6.0"
  }
 },
 "nbformat": 4,
 "nbformat_minor": 2
}
