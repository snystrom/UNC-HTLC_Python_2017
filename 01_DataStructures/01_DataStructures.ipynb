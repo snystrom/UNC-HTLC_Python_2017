{
 "cells": [
  {
   "cell_type": "markdown",
   "metadata": {},
   "source": [
    "# Some external resources:\n",
    "\n",
    "[Python for Biologists](http://pythonforbiologists.com/)\n",
    "\n",
    "[Python 3 Course](http://www.python-course.eu/python3_course.php)\n",
    "\n",
    "[Python The Hard Way](https://learnpythonthehardway.org/book/preface.html) (**NOTE** Python 2.7, but the author is writing a 3.6 book)\n",
    "\n",
    "## General programming resources:\n",
    "[Stack Exchange](https://stackexchange.com/)\n",
    "\n",
    "Clean Code by Robert C. Martin"
   ]
  },
  {
   "cell_type": "markdown",
   "metadata": {},
   "source": [
    "# First program! "
   ]
  },
  {
   "cell_type": "code",
   "execution_count": 2,
   "metadata": {},
   "outputs": [
    {
     "name": "stdout",
     "output_type": "stream",
     "text": [
      "Hello world\n"
     ]
    }
   ],
   "source": [
    "print('Hello world')"
   ]
  },
  {
   "cell_type": "code",
   "execution_count": 3,
   "metadata": {},
   "outputs": [
    {
     "name": "stdout",
     "output_type": "stream",
     "text": [
      "Hello, Spencer\n",
      "HelloSpencer\n"
     ]
    }
   ],
   "source": [
    "myName = 'Spencer' # Variables will store values\n",
    "\n",
    "print('Hello,', myName)  # Comma will add spaces between objects when printing!\n",
    "print('Hello' + myName)  # Strings can be concatenated together with +"
   ]
  },
  {
   "cell_type": "code",
   "execution_count": 4,
   "metadata": {},
   "outputs": [
    {
     "name": "stdout",
     "output_type": "stream",
     "text": [
      "Hello, Spencer\n"
     ]
    }
   ],
   "source": [
    "print('Hello, ' + myName)  # Adding a space after the comma makes it print how we want"
   ]
  },
  {
   "cell_type": "code",
   "execution_count": 17,
   "metadata": {},
   "outputs": [
    {
     "name": "stdout",
     "output_type": "stream",
     "text": [
      "Hello, Bob\n",
      "('Hello', 'Bob')\n"
     ]
    }
   ],
   "source": [
    "# These strategies work outside of the print() function too!\n",
    "test = 'Hello, ' + myName\n",
    "test2 = 'Hello', myName\n",
    "\n",
    "# These outputs are different! We'll talk about why later.\n",
    "print(test)\n",
    "print(test2)"
   ]
  },
  {
   "cell_type": "markdown",
   "metadata": {},
   "source": [
    "## User input with the `input()` function"
   ]
  },
  {
   "cell_type": "code",
   "execution_count": 6,
   "metadata": {},
   "outputs": [
    {
     "name": "stdout",
     "output_type": "stream",
     "text": [
      "What's your name?\n",
      "Bob\n",
      "Hello, Bob!\n"
     ]
    }
   ],
   "source": [
    "inputName = input(\"What's your name?\\n\") # \\n tells python to print a new line (like pressing enter)\n",
    "\n",
    "print(\"Hello,\", inputName + \"!\") # we can combine types of concatenation too"
   ]
  },
  {
   "cell_type": "code",
   "execution_count": 7,
   "metadata": {},
   "outputs": [
    {
     "name": "stdout",
     "output_type": "stream",
     "text": [
      "How old are you?\n",
      "12\n",
      "Bob is 12.\n"
     ]
    }
   ],
   "source": [
    "inputAge = input(\"How old are you?\\n\")\n",
    "print(inputName, \"is\", inputAge + \".\")"
   ]
  },
  {
   "cell_type": "markdown",
   "metadata": {},
   "source": [
    "# Operations\n",
    "\n",
    "Computers do math on things!"
   ]
  },
  {
   "cell_type": "markdown",
   "metadata": {},
   "source": [
    "|Operator|Operation|\n",
    "|:---:|:---:|\n",
    "| +  | Addition  |  \n",
    "| -  | Subtraction  |  \n",
    "| *  | Multiplication  |  \n",
    "| /  | Division  |  \n",
    "| //  | Floor division  |  \n",
    "| \\*\\* | Exponent |  "
   ]
  },
  {
   "cell_type": "code",
   "execution_count": 8,
   "metadata": {},
   "outputs": [
    {
     "name": "stdout",
     "output_type": "stream",
     "text": [
      "4\n",
      "2\n",
      "8\n",
      "2.0\n"
     ]
    }
   ],
   "source": [
    "print(2 + 2)\n",
    "print(4 - 2)\n",
    "print(4 * 2) \n",
    "print(4 / 2)"
   ]
  },
  {
   "cell_type": "markdown",
   "metadata": {},
   "source": [
    "Math works on varibles too!"
   ]
  },
  {
   "cell_type": "code",
   "execution_count": 2,
   "metadata": {},
   "outputs": [
    {
     "name": "stdout",
     "output_type": "stream",
     "text": [
      "30\n"
     ]
    }
   ],
   "source": [
    "a = 10\n",
    "b = 20\n",
    "print(a + b)"
   ]
  },
  {
   "cell_type": "markdown",
   "metadata": {},
   "source": [
    "## Expanding our script!\n",
    "\n",
    "Let's calculate age based on birthyear instead!"
   ]
  },
  {
   "cell_type": "code",
   "execution_count": null,
   "metadata": {},
   "outputs": [],
   "source": [
    "inputName = input(\"What's your name?\\n\")\n",
    "print(\"Hello,\", inputName + \"!\") \n",
    "\n",
    "inputAge = input(\"How old are you?\\n\")\n",
    "print(inputName, \"is\", inputAge + \".\")"
   ]
  },
  {
   "cell_type": "code",
   "execution_count": 4,
   "metadata": {},
   "outputs": [
    {
     "name": "stdout",
     "output_type": "stream",
     "text": [
      "what year were you born? 1993\n"
     ]
    },
    {
     "ename": "TypeError",
     "evalue": "unsupported operand type(s) for -: 'int' and 'str'",
     "output_type": "error",
     "traceback": [
      "\u001b[1;31m---------------------------------------------------------------------------\u001b[0m",
      "\u001b[1;31mTypeError\u001b[0m                                 Traceback (most recent call last)",
      "\u001b[1;32m<ipython-input-4-5320a26cdd6f>\u001b[0m in \u001b[0;36m<module>\u001b[1;34m()\u001b[0m\n\u001b[0;32m      2\u001b[0m \u001b[0mbirthYear\u001b[0m \u001b[1;33m=\u001b[0m \u001b[0minput\u001b[0m\u001b[1;33m(\u001b[0m\u001b[1;34m\"what year were you born? \"\u001b[0m\u001b[1;33m)\u001b[0m\u001b[1;33m\u001b[0m\u001b[0m\n\u001b[0;32m      3\u001b[0m \u001b[1;33m\u001b[0m\u001b[0m\n\u001b[1;32m----> 4\u001b[1;33m \u001b[0mageCalc\u001b[0m \u001b[1;33m=\u001b[0m \u001b[0mcurrentYear\u001b[0m \u001b[1;33m-\u001b[0m \u001b[0mbirthYear\u001b[0m\u001b[1;33m\u001b[0m\u001b[0m\n\u001b[0m",
      "\u001b[1;31mTypeError\u001b[0m: unsupported operand type(s) for -: 'int' and 'str'"
     ]
    }
   ],
   "source": [
    "currentYear = 2017\n",
    "birthYear = input(\"what year were you born? \")\n",
    "\n",
    "ageCalc = currentYear - birthYear "
   ]
  },
  {
   "cell_type": "markdown",
   "metadata": {},
   "source": [
    "A **TypeError** is caused by variables being the incorrect **type** for the operation. \n",
    "\n",
    "In this case, the error message is telling us that trying to do the subtraction operation on an int and a str is not possible"
   ]
  },
  {
   "cell_type": "markdown",
   "metadata": {},
   "source": [
    "# Data Structures \n",
    "## The basics\n",
    "* **Strings** are text or quoted numbers\n",
    "* **Integers** are *fixed point* numbers\n",
    "* **Floats** are *floating point* numbers (decimals)"
   ]
  },
  {
   "cell_type": "code",
   "execution_count": null,
   "metadata": {
    "collapsed": true
   },
   "outputs": [],
   "source": [
    "myString = 'strings are just text'\n",
    "\n",
    "myInt = 10\n",
    "\n",
    "myFloat = 2.5"
   ]
  },
  {
   "cell_type": "markdown",
   "metadata": {},
   "source": [
    "the `type()` function can be used to figure out what data type a variable is:"
   ]
  },
  {
   "cell_type": "code",
   "execution_count": null,
   "metadata": {
    "collapsed": true
   },
   "outputs": [],
   "source": [
    "print(type(myString))\n",
    "print(type(myInt))\n",
    "print(type(myFloat))"
   ]
  },
  {
   "cell_type": "markdown",
   "metadata": {},
   "source": [
    "Getting back to our previous error, it seems that `currentYear` and `birthYear` are not the same data type."
   ]
  },
  {
   "cell_type": "code",
   "execution_count": 5,
   "metadata": {},
   "outputs": [
    {
     "name": "stdout",
     "output_type": "stream",
     "text": [
      "<class 'int'>\n",
      "<class 'str'>\n"
     ]
    }
   ],
   "source": [
    "print(type(currentYear))\n",
    "print(type(birthYear))"
   ]
  },
  {
   "cell_type": "markdown",
   "metadata": {},
   "source": [
    "## Why is `birthYear` a string? \n",
    "\n",
    "We are using the `input()` function to assign `birthYear`, but we assign `currentYear` explicitly. \n",
    "\n",
    "Python is a **dynamically typed** language. It will automatically detect what it thinks a variable type should be. So, explicit assignment of `currentYear = 2017` makes `currentYear` an int, while if we had said `currentYear = '2017'` it would be a string.\n",
    "\n",
    "The `input()` function *always* returns a string."
   ]
  },
  {
   "cell_type": "markdown",
   "metadata": {},
   "source": [
    "## Reassigning types\n",
    "\n",
    "Data types can be reassigned by calling the `str()`, `int()`, or `float()` functions.\n",
    "\n",
    "Let's revisit our script with a minor change:"
   ]
  },
  {
   "cell_type": "code",
   "execution_count": null,
   "metadata": {
    "collapsed": true
   },
   "outputs": [],
   "source": [
    "birthYear = int(input(\"what year were you born? \")) # This converts the output of input() to an integer!\n",
    "currentYear = 2017\n",
    "\n",
    "ageCalc = currentYear - birthYear \n",
    "print(\"You are:\", ageCalc)"
   ]
  },
  {
   "cell_type": "markdown",
   "metadata": {},
   "source": [
    "## Right now our script will let us lie!\n",
    "Let's use logic to fix it!"
   ]
  },
  {
   "cell_type": "code",
   "execution_count": 6,
   "metadata": {},
   "outputs": [
    {
     "name": "stdout",
     "output_type": "stream",
     "text": [
      "What's your name?\n",
      "Bob\n",
      "Hello, Bob!\n",
      "How old are you?\n",
      "21\n",
      "Bob is 21.\n",
      "what year were you born? 1993\n",
      "You are: 24\n"
     ]
    }
   ],
   "source": [
    "inputName = input(\"What's your name?\\n\") \n",
    "print(\"Hello,\", inputName + \"!\") \n",
    "\n",
    "inputAge = input(\"How old are you?\\n\")\n",
    "print(inputName, \"is\", inputAge + \".\")\n",
    "\n",
    "birthYear = int(input(\"what year were you born? \")) \n",
    "currentYear = 2017\n",
    "\n",
    "ageCalc = currentYear - birthYear \n",
    "print(\"You are:\", ageCalc)"
   ]
  },
  {
   "cell_type": "markdown",
   "metadata": {},
   "source": [
    "# Logic & Boolean variables\n",
    "**Logic** is used to test whether conditions are true or false.\n",
    "\n",
    "**Boolean variables** are variables whose range of possible values are True or False. \n",
    "\n",
    "In python, `True` and `False` are **keywords**. **Keywords** are special characters that are reserved for use by the python interpreter, and thus cannot be used as variable names, for example:\n"
   ]
  },
  {
   "cell_type": "code",
   "execution_count": null,
   "metadata": {
    "collapsed": true
   },
   "outputs": [],
   "source": [
    "# This will return an error!\n",
    "True = 3"
   ]
  },
  {
   "cell_type": "markdown",
   "metadata": {},
   "source": [
    "The `can't assign to keyword` error happens if you try to use a keyword as a variable name."
   ]
  },
  {
   "cell_type": "markdown",
   "metadata": {},
   "source": [
    "You **CAN** assign `True` and `False` as values to variables! "
   ]
  },
  {
   "cell_type": "code",
   "execution_count": null,
   "metadata": {
    "collapsed": true
   },
   "outputs": [],
   "source": [
    "boolean_T = True\n",
    "\n",
    "boolean_F = False\n",
    "\n",
    "print(boolean_T)\n",
    "print(boolean_F)"
   ]
  },
  {
   "cell_type": "markdown",
   "metadata": {},
   "source": [
    "We use **Logic Statements** to return boolean variables (True or False)."
   ]
  },
  {
   "cell_type": "markdown",
   "metadata": {
    "collapsed": true
   },
   "source": [
    "| Function   |  Statement    |\n",
    "|:----------:|:-------------:|\n",
    "|     ==     |   is equal to |\n",
    "|     !=     | is **not** equal to |\n",
    "|     >      | greater than |\n",
    "|     <      | less than    |\n",
    "|     &      |     AND      |\n",
    "|   &#124;   |     OR       |\n",
    "|    not()   |     NOT      |\n"
   ]
  },
  {
   "cell_type": "markdown",
   "metadata": {},
   "source": [
    "For the sake of completeness, I included the AND, OR and NOT statements in our discussion of logic. These functions come from binary logic circuits and are very useful, but we will not have time to discuss their use. I will include a section below you can read outside of class on how these three things work."
   ]
  },
  {
   "cell_type": "code",
   "execution_count": 7,
   "metadata": {},
   "outputs": [
    {
     "name": "stdout",
     "output_type": "stream",
     "text": [
      "True\n"
     ]
    }
   ],
   "source": [
    "myVariable = 2\n",
    "is2 = (myVariable == 2) # ask Python if myVariable is equal to 2. Return True/False which gets assigned to is2.\n",
    "\n",
    "print(is2)"
   ]
  },
  {
   "cell_type": "code",
   "execution_count": 8,
   "metadata": {},
   "outputs": [
    {
     "data": {
      "text/plain": [
       "False"
      ]
     },
     "execution_count": 8,
     "metadata": {},
     "output_type": "execute_result"
    }
   ],
   "source": [
    "myVariable == 5"
   ]
  },
  {
   "cell_type": "code",
   "execution_count": 9,
   "metadata": {},
   "outputs": [
    {
     "data": {
      "text/plain": [
       "True"
      ]
     },
     "execution_count": 9,
     "metadata": {},
     "output_type": "execute_result"
    }
   ],
   "source": [
    "myVariable != 5"
   ]
  },
  {
   "cell_type": "code",
   "execution_count": 10,
   "metadata": {},
   "outputs": [
    {
     "data": {
      "text/plain": [
       "True"
      ]
     },
     "execution_count": 10,
     "metadata": {},
     "output_type": "execute_result"
    }
   ],
   "source": [
    "someText = 'dog' \n",
    "someText == 'dog' # Works on strings too"
   ]
  },
  {
   "cell_type": "code",
   "execution_count": 11,
   "metadata": {},
   "outputs": [
    {
     "name": "stdout",
     "output_type": "stream",
     "text": [
      "False\n",
      "True\n"
     ]
    }
   ],
   "source": [
    "print(someText == 'cat') # is someText equal to 'cat'?\n",
    "print(someText != 'cat') # is someText not equal to 'cat'?"
   ]
  },
  {
   "cell_type": "markdown",
   "metadata": {},
   "source": [
    "# ifelse statements\n",
    "\n",
    "## If true, do something\n",
    "\n",
    "`if` statements are used check whether one or more conditions are true, and if so, execute a command.\n",
    "\n",
    "`if` initializes the statement. Requires `:` and indentation below each line.\n",
    "\n",
    "`elif` (else-if) checks another condition. "
   ]
  },
  {
   "cell_type": "code",
   "execution_count": 13,
   "metadata": {},
   "outputs": [
    {
     "name": "stdout",
     "output_type": "stream",
     "text": [
      "woof!\n"
     ]
    }
   ],
   "source": [
    "animal = 'dog'\n",
    "\n",
    "if animal == 'dog':\n",
    "    print('woof!')\n",
    "elif animal == 'cat':\n",
    "    print('meow!')\n",
    "elif animal == 'fish':\n",
    "    print('blub')"
   ]
  },
  {
   "cell_type": "markdown",
   "metadata": {},
   "source": [
    "Lines are checked *in order*, so this:"
   ]
  },
  {
   "cell_type": "code",
   "execution_count": 12,
   "metadata": {},
   "outputs": [
    {
     "name": "stdout",
     "output_type": "stream",
     "text": [
      "meow!\n"
     ]
    }
   ],
   "source": [
    "animal = 'cat'\n",
    "\n",
    "if animal == 'dog':\n",
    "    print('woof!')\n",
    "elif animal == 'cat':\n",
    "    print('meow!')\n",
    "elif animal == 'cat':\n",
    "    print('meow! meow! meow! meow!') # Will never print"
   ]
  },
  {
   "cell_type": "markdown",
   "metadata": {},
   "source": [
    "Will **always** print 'meow!' and never 'meow! meow! meow! meow!' when `animal = cat`"
   ]
  },
  {
   "cell_type": "markdown",
   "metadata": {},
   "source": [
    "## Else statement\n",
    "Currently, there is no 'default' condition for when `animal` does not equal dog, cat or fish.\n",
    "\n",
    "`else` allows setting a 'default' action if none of the other conditions are true."
   ]
  },
  {
   "cell_type": "code",
   "execution_count": 14,
   "metadata": {
    "collapsed": true
   },
   "outputs": [],
   "source": [
    "# Nothing will print when running this script\n",
    "animal = 'llama'\n",
    "\n",
    "if animal == 'dog':\n",
    "    print('woof!')\n",
    "elif animal == 'cat':\n",
    "    print('meow!')\n",
    "elif animal == 'fish':\n",
    "    print('blub')"
   ]
  },
  {
   "cell_type": "code",
   "execution_count": 15,
   "metadata": {},
   "outputs": [
    {
     "name": "stdout",
     "output_type": "stream",
     "text": [
      "I don't know what that animal is!\n"
     ]
    }
   ],
   "source": [
    "animal = 'llama'\n",
    "\n",
    "if animal == 'dog':\n",
    "    print('woof!')\n",
    "elif animal == 'cat':\n",
    "    print('meow!')\n",
    "elif animal == 'fish':\n",
    "    print('blub')\n",
    "else:\n",
    "    print('I don\\'t know what that animal is!') # note the \\ escape character, or use double-quotes "
   ]
  },
  {
   "cell_type": "markdown",
   "metadata": {},
   "source": [
    "# Exercise:\n",
    "\n",
    "Make your age program check that you are really as old as your birth year says! \n",
    "\n",
    "**Bonus:** If you lie, have the program tell you if you are older or younger than your input age based on your birthyear."
   ]
  },
  {
   "cell_type": "markdown",
   "metadata": {},
   "source": [
    "**Scroll for an answer**"
   ]
  },
  {
   "cell_type": "markdown",
   "metadata": {},
   "source": [
    "..."
   ]
  },
  {
   "cell_type": "markdown",
   "metadata": {},
   "source": [
    "..."
   ]
  },
  {
   "cell_type": "markdown",
   "metadata": {},
   "source": [
    "..."
   ]
  },
  {
   "cell_type": "markdown",
   "metadata": {},
   "source": [
    "..."
   ]
  },
  {
   "cell_type": "markdown",
   "metadata": {},
   "source": [
    "..."
   ]
  },
  {
   "cell_type": "markdown",
   "metadata": {},
   "source": [
    "..."
   ]
  },
  {
   "cell_type": "markdown",
   "metadata": {},
   "source": [
    "..."
   ]
  },
  {
   "cell_type": "markdown",
   "metadata": {},
   "source": [
    "..."
   ]
  },
  {
   "cell_type": "markdown",
   "metadata": {},
   "source": [
    "..."
   ]
  },
  {
   "cell_type": "markdown",
   "metadata": {},
   "source": [
    "..."
   ]
  },
  {
   "cell_type": "code",
   "execution_count": 5,
   "metadata": {},
   "outputs": [
    {
     "name": "stdout",
     "output_type": "stream",
     "text": [
      "What's your name?\n",
      "Bob\n",
      "Hello, Bob!\n",
      "\n",
      "How old are you? 21\n",
      "Bob is 21.\n",
      "\n",
      "what year were you born? 2008\n",
      "LIAR! \n",
      "You are younger than 21!\n",
      "\n"
     ]
    }
   ],
   "source": [
    "inputName = input(\"What's your name?\\n\") \n",
    "print(\"Hello,\", inputName + \"!\\n\") \n",
    "\n",
    "inputAge = int(input(\"How old are you? \"))\n",
    "print(inputName, \"is\", str(inputAge) + \".\\n\")\n",
    "\n",
    "birthYear = int(input(\"what year were you born? \"))\n",
    "currentYear = 2017\n",
    "\n",
    "ageCalc = currentYear - birthYear \n",
    "\n",
    "if ageCalc != inputAge:\n",
    "    print(\"LIAR! \")\n",
    "    if ageCalc > inputAge:\n",
    "        print(\"You are older than\", str(inputAge) + \"!\\n\")\n",
    "    elif ageCalc < inputAge:\n",
    "        print(\"You are younger than\", str(inputAge) + \"!\\n\")\n",
    "else:    \n",
    "    print(\"You are:\", ageCalc, \"\\n\")\n"
   ]
  },
  {
   "cell_type": "markdown",
   "metadata": {},
   "source": [
    "# Arrays\n",
    "\n",
    "**Arrays** (sometimes called **Lists**) are a series of datatypes joined together by brackets `[]`"
   ]
  },
  {
   "cell_type": "code",
   "execution_count": 25,
   "metadata": {},
   "outputs": [],
   "source": [
    "myArray = ['one', 'two', 'three', 4, 5, 6] # Arrays can contain multiple data types"
   ]
  },
  {
   "cell_type": "markdown",
   "metadata": {},
   "source": [
    "### Indexing\n",
    "\n",
    "We can refer to specific locations inside an array by 'indexing' them.\n"
   ]
  },
  {
   "cell_type": "code",
   "execution_count": 26,
   "metadata": {},
   "outputs": [
    {
     "name": "stdout",
     "output_type": "stream",
     "text": [
      "two\n"
     ]
    }
   ],
   "source": [
    "print(myArray[1]) # Prints the second object inside the array"
   ]
  },
  {
   "cell_type": "markdown",
   "metadata": {},
   "source": [
    "### Arrays are 0 indexed!\n",
    "This means the first item in an array is 0!"
   ]
  },
  {
   "cell_type": "code",
   "execution_count": 20,
   "metadata": {},
   "outputs": [
    {
     "name": "stdout",
     "output_type": "stream",
     "text": [
      "one\n"
     ]
    }
   ],
   "source": [
    "print(myArray[0])"
   ]
  },
  {
   "cell_type": "markdown",
   "metadata": {},
   "source": [
    "### Appending to Arrays\n",
    "We can add values to the end of an array with the `.append()` method.\n",
    "\n",
    "**Methods** are functions that belong to different types."
   ]
  },
  {
   "cell_type": "code",
   "execution_count": 27,
   "metadata": {},
   "outputs": [
    {
     "name": "stdout",
     "output_type": "stream",
     "text": [
      "['one', 'two', 'three', 4, 5, 6]\n",
      "['one', 'two', 'three', 4, 5, 6, 'here is another entry!']\n"
     ]
    }
   ],
   "source": [
    "print(myArray)\n",
    "\n",
    "myArray.append('here is another entry!')\n",
    "\n",
    "print(myArray)"
   ]
  },
  {
   "cell_type": "code",
   "execution_count": 28,
   "metadata": {},
   "outputs": [
    {
     "ename": "AttributeError",
     "evalue": "'str' object has no attribute 'append'",
     "output_type": "error",
     "traceback": [
      "\u001b[1;31m---------------------------------------------------------------------------\u001b[0m",
      "\u001b[1;31mAttributeError\u001b[0m                            Traceback (most recent call last)",
      "\u001b[1;32m<ipython-input-28-fce5ec8e1807>\u001b[0m in \u001b[0;36m<module>\u001b[1;34m()\u001b[0m\n\u001b[0;32m      1\u001b[0m \u001b[0mmyString\u001b[0m \u001b[1;33m=\u001b[0m \u001b[1;34m'hello'\u001b[0m\u001b[1;33m\u001b[0m\u001b[0m\n\u001b[1;32m----> 2\u001b[1;33m \u001b[0mmyString\u001b[0m\u001b[1;33m.\u001b[0m\u001b[0mappend\u001b[0m\u001b[1;33m(\u001b[0m\u001b[1;34m' world!'\u001b[0m\u001b[1;33m)\u001b[0m \u001b[1;31m# Strings don't have an append() method!\u001b[0m\u001b[1;33m\u001b[0m\u001b[0m\n\u001b[0m",
      "\u001b[1;31mAttributeError\u001b[0m: 'str' object has no attribute 'append'"
     ]
    }
   ],
   "source": [
    "myString = 'hello'\n",
    "myString.append(' world!') # Strings don't have an append() method!"
   ]
  },
  {
   "cell_type": "markdown",
   "metadata": {},
   "source": [
    "# Indexing strings\n",
    "\n",
    "Strings can be indexed just like arrays! All of the following examples work on arrays too!"
   ]
  },
  {
   "cell_type": "code",
   "execution_count": 37,
   "metadata": {},
   "outputs": [
    {
     "name": "stdout",
     "output_type": "stream",
     "text": [
      "hello world!\n",
      "h\n",
      "!\n",
      "l\n",
      "lo world!\n",
      "hello w\n",
      "lo w\n"
     ]
    }
   ],
   "source": [
    "myString = 'hello world!'\n",
    "print(myString)\n",
    "print(myString[0])\n",
    "\n",
    "print(myString[-1]) # print last character\n",
    "print(myString[-3]) # print third to last character\n",
    "\n",
    "print(myString[3:]) # print character 4 to the end\n",
    "print(myString[:7]) # print until character 7\n",
    "print(myString[3:7]) # print character 4 through 7"
   ]
  },
  {
   "cell_type": "markdown",
   "metadata": {},
   "source": [
    "# NEXT WEEK:\n",
    "\n",
    "We'll learn why lists are so useful and how to read files instead of `input()`!"
   ]
  },
  {
   "cell_type": "markdown",
   "metadata": {},
   "source": [
    "# Extra stuff (outside of class)"
   ]
  },
  {
   "cell_type": "markdown",
   "metadata": {},
   "source": [
    "# More math"
   ]
  },
  {
   "cell_type": "code",
   "execution_count": null,
   "metadata": {
    "collapsed": true
   },
   "outputs": [],
   "source": [
    "print(10 + 10)\n",
    "\n",
    "print(10 * 10)\n",
    "\n",
    "print(10 / 10)  \n",
    "\n",
    "print(10 // 10)\n",
    "\n",
    "print(2**2)"
   ]
  },
  {
   "cell_type": "markdown",
   "metadata": {},
   "source": [
    "### Division gotchas"
   ]
  },
  {
   "cell_type": "code",
   "execution_count": null,
   "metadata": {
    "collapsed": true
   },
   "outputs": [],
   "source": [
    "print(10 / 2)\n",
    "print(10 // 2)\n",
    "print(10.0 // 2) # Floor division will return float if input is not an int!"
   ]
  },
  {
   "cell_type": "markdown",
   "metadata": {},
   "source": [
    "# Functions\n",
    "Functions are bits of code that take input, do something, and return output. You can put anything in a function!\n",
    "\n",
    "`print()` function takes an object and prints its value to the screen, then tells python whether it was successful!"
   ]
  },
  {
   "cell_type": "code",
   "execution_count": null,
   "metadata": {
    "collapsed": true
   },
   "outputs": [],
   "source": [
    "print('Here is some text')"
   ]
  },
  {
   "cell_type": "markdown",
   "metadata": {},
   "source": [
    "functions can be defined with the `def` keyword:"
   ]
  },
  {
   "cell_type": "code",
   "execution_count": null,
   "metadata": {
    "collapsed": true
   },
   "outputs": [],
   "source": [
    "def myFunction(myInput):\n",
    "    print(myInput)"
   ]
  },
  {
   "cell_type": "code",
   "execution_count": null,
   "metadata": {
    "collapsed": true
   },
   "outputs": [],
   "source": [
    "myFunction('Here is some text')"
   ]
  },
  {
   "cell_type": "code",
   "execution_count": 6,
   "metadata": {},
   "outputs": [
    {
     "data": {
      "text/plain": [
       "4"
      ]
     },
     "execution_count": 6,
     "metadata": {},
     "output_type": "execute_result"
    }
   ],
   "source": [
    "def Add(a, b):\n",
    "    return(a + b) # return() will not print output, but will instead redirect output to variables\n",
    "\n",
    "Add(2,2)"
   ]
  },
  {
   "cell_type": "code",
   "execution_count": 7,
   "metadata": {},
   "outputs": [
    {
     "name": "stdout",
     "output_type": "stream",
     "text": [
      "4\n"
     ]
    }
   ],
   "source": [
    "mySum = Add(2,2)\n",
    "print(mySum)"
   ]
  },
  {
   "cell_type": "markdown",
   "metadata": {},
   "source": [
    "## What type be the output of these operations?"
   ]
  },
  {
   "cell_type": "markdown",
   "metadata": {},
   "source": [
    "String, Int, or Float?"
   ]
  },
  {
   "cell_type": "code",
   "execution_count": null,
   "metadata": {
    "collapsed": true
   },
   "outputs": [],
   "source": [
    "out1 = myInt + 20\n",
    "out2 = myInt / 2\n",
    "out3 = myInt // 2"
   ]
  },
  {
   "cell_type": "code",
   "execution_count": null,
   "metadata": {
    "collapsed": true
   },
   "outputs": [],
   "source": [
    "print(out1)\n",
    "print(type(out1)) \n",
    "print('\\n')\n",
    "\n",
    "print(out2)\n",
    "print(type(out2))\n",
    "print('\\n')\n",
    "\n",
    "print(out3)\n",
    "print(type(out3))"
   ]
  },
  {
   "cell_type": "markdown",
   "metadata": {},
   "source": [
    "## String Formatting"
   ]
  },
  {
   "cell_type": "code",
   "execution_count": null,
   "metadata": {
    "collapsed": true
   },
   "outputs": [],
   "source": [
    "month = 'May'\n",
    "day = 24\n",
    "year = 2017\n",
    "\n",
    "print('Today is:', month, day, year)"
   ]
  },
  {
   "cell_type": "markdown",
   "metadata": {},
   "source": [
    "Let's make the print function output something that looks like this: \n",
    "\n",
    "`Today is: May 24th, 2017` "
   ]
  },
  {
   "cell_type": "code",
   "execution_count": null,
   "metadata": {
    "collapsed": true
   },
   "outputs": [],
   "source": [
    "print('Today is:', month, day + 'th', year)"
   ]
  },
  {
   "cell_type": "markdown",
   "metadata": {},
   "source": [
    "**TypeError** again! Why? (Keep scrolling for answer, but try to fix the code yourself first!"
   ]
  },
  {
   "cell_type": "markdown",
   "metadata": {},
   "source": [
    "..."
   ]
  },
  {
   "cell_type": "markdown",
   "metadata": {},
   "source": [
    "..."
   ]
  },
  {
   "cell_type": "markdown",
   "metadata": {},
   "source": [
    "..."
   ]
  },
  {
   "cell_type": "markdown",
   "metadata": {},
   "source": [
    "..."
   ]
  },
  {
   "cell_type": "markdown",
   "metadata": {},
   "source": [
    "..."
   ]
  },
  {
   "cell_type": "markdown",
   "metadata": {},
   "source": [
    "..."
   ]
  },
  {
   "cell_type": "markdown",
   "metadata": {},
   "source": [
    "..."
   ]
  },
  {
   "cell_type": "markdown",
   "metadata": {},
   "source": [
    "..."
   ]
  },
  {
   "cell_type": "markdown",
   "metadata": {},
   "source": [
    "`day` is not a string! We can fix that like this:"
   ]
  },
  {
   "cell_type": "code",
   "execution_count": null,
   "metadata": {
    "collapsed": true
   },
   "outputs": [],
   "source": [
    "print('Today is:', month, str(day) + 'th', year)"
   ]
  },
  {
   "cell_type": "markdown",
   "metadata": {},
   "source": [
    "Formatting in this way allows you to write everything as a string! `print()` will format the special variables `%s` and `%d` to strings or integers, respectively. This makes code easier to read!"
   ]
  },
  {
   "cell_type": "code",
   "execution_count": null,
   "metadata": {
    "collapsed": true
   },
   "outputs": [],
   "source": [
    "print('Today is: %s %dth, %d' % (month, day, year))"
   ]
  },
  {
   "cell_type": "code",
   "execution_count": 9,
   "metadata": {},
   "outputs": [
    {
     "name": "stdout",
     "output_type": "stream",
     "text": [
      "what's your name? Bob\n",
      "Hello, Bob\n",
      "Hello Bob, my name is Python!\n",
      "Hello Bob, my name is Python version 3!\n"
     ]
    }
   ],
   "source": [
    "myName = input(\"what's your name? \")\n",
    "print('Hello,', myName) # Normal printing \n",
    "\n",
    "print('Hello %s, my name is %s!' % (myName, 'Python')) # Printing with string formatting! \n",
    "\n",
    "print('Hello %s, my name is %s version %d!' % (myName, 'Python', 3)) "
   ]
  },
  {
   "cell_type": "markdown",
   "metadata": {},
   "source": [
    "## Newer, more updated string formatting in python using `.format()`:\n",
    "\n",
    "This style is more powerful, but requires a bit more python knowledge to understand (Stay tuned!)\n",
    "\n",
    "[More Formatting info](pyformat.info)"
   ]
  }
 ],
 "metadata": {
  "celltoolbar": "Raw Cell Format",
  "kernelspec": {
   "display_name": "Python 3",
   "language": "python",
   "name": "python3"
  },
  "language_info": {
   "codemirror_mode": {
    "name": "ipython",
    "version": 3
   },
   "file_extension": ".py",
   "mimetype": "text/x-python",
   "name": "python",
   "nbconvert_exporter": "python",
   "pygments_lexer": "ipython3",
   "version": "3.6.0"
  }
 },
 "nbformat": 4,
 "nbformat_minor": 2
}
