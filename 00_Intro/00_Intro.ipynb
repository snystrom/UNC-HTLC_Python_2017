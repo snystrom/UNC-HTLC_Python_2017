{
 "cells": [
  {
   "cell_type": "markdown",
   "metadata": {},
   "source": [
    "# Welcome to Python!"
   ]
  },
  {
   "cell_type": "markdown",
   "metadata": {},
   "source": [
    "## Computers and Programming Languages\n",
    "\n",
    "### Basic Computer Architechture\n",
    "\n",
    "<center>**von Neumann architecture**</center>\n",
    "\n",
    "<img src=\"images/vonNeumann.png\", width=400, height=400>  \n",
    "\n",
    "<center>[Wikimedia Commons](http://commons.wikimedia.org/wiki/File:Von_Neumann_Architecture.svg)</center>  \n",
    "\n",
    "The CPU controls:\n",
    "* Input devices (keyboard, mouse, hard disks)\n",
    "* Output devices (monitor, hard disks)\n",
    "* Flow of information (loading data into memory)\n",
    "* Processing of information (addition, subtraction, logic comparisons)\n",
    "\n",
    "Programming or coding is about controlling the flow of and processing of data by the CPU.  \n",
    "\n",
    "### What is data?\n",
    "\n",
    "**bits**\n",
    "* 1s and 0s\n",
    "* True or False\n",
    "* Yes or No\n",
    "* On or Off\n",
    "* Transistors: high voltage or low voltage\n",
    "\n",
    "**8 bits (b) in 1 Byte (B)**\n",
    "* 32 bit vs 64 bit operating system\n",
    "* 1 terabyte (TB) hard drive\n",
    "* 30 Mbps download speed (Mega **bits** per second)\n",
    "\n",
    "### Whats the difference between 32 and 64 bit operating systems?\n",
    "\n",
    "32 bits = 2<sup>32</sup> = 4,294,967,296 possible values  \n",
    "64 bits = 2<sup>64</sup> = 1.844 x 10<sup>19</sup> possible values\n",
    "\n",
    "<img src=\"images/32v64.png\",>\n",
    "<center>[ArsTechnica](https://arstechnica.com/gadgets/2002/03/an-introduction-to-64-bit-computing-and-x86-64/)</center>  \n",
    "\n",
    "**32 bit system: 4 GB of addressable memory**  \n",
    "**64 bit system: 18 million TB of addressable memory**  \n",
    "\n",
    "This all seems pretty complicated... but we have programming languages to help us!  \n",
    "\n",
    "### Programming language hierarchy\n",
    "\n",
    "<img src=\"images/language_levels.png\", width=400, height=400>\n",
    "<center>[Black and white Computer](http://blackandwhitecomputer.blogspot.com/2012/06/levels-of-programmings-languages.html)</center>  \n",
    "\n",
    "**Machine Language**\n",
    "* 1s and 0s\n",
    "* Not human readable\n",
    "* Executes instructions physically coded into the CPU\n",
    "\n",
    "**Assembly Language**\n",
    "* Human readable (but not intuitive)\n",
    "* Direct manipulation of hardware registers, counters, memory locations, and logical comparisons\n",
    "* Must be translated into machine code\n",
    "* Dependent on CPU architecture (Intel vs AMD / 32 vs 64 bit)\n",
    "\n",
    "**High-Level Language**\n",
    "* Human readable (varying levels of readability)\n",
    "* Usually translated (compiled) into assembly and then into machine code\n",
    "* High level functionality and abstraction\n",
    "    - No direct manipulation of data\n",
    "    - Many things happen \"behind the scenes\"\n",
    "* Dependent on operating system and software environment\n",
    "    - Programs built for Windows, Mac, or Linux\n",
    "* Compiled vs interpreted languages\n",
    "\n",
    "<img src=\"images/comp_int.jpg\">\n",
    "<center>[Learn to Code with Me](http://learntocodewith.me/programming/source-code/)</center>\n",
    "\n",
    "**Compiled Languages**\n",
    "* C++\n",
    "* C\n",
    "* Visual Basic\n",
    "\n",
    "**Interpreted Languages**\n",
    "* **Python**\n",
    "* Perl\n",
    "* Java\n",
    "* PHP\n",
    "* Ruby\n",
    "* Scripting languages\n",
    "\n",
    "### Scripts vs Programs\n",
    "\n",
    "*It's semantics! But...*\n",
    "\n",
    "**Scripts**\n",
    "* Generally short\n",
    "* Interpreted\n",
    "* Designed to automate manual execution of commands\n",
    "* Instructions are often a linear sequence of events (read top to bottom)\n",
    "* Highly dependent on system environment\n",
    "\n",
    "**Programs**\n",
    "* Generally larger than scripts\n",
    "* Interpreted or compiled\n",
    "* Include packages and libraries or call on other programs\n",
    "* Instructions often encased in descrite units or \"objects\"\n",
    "* Usually desinged to be portable\n"
   ]
  },
  {
   "cell_type": "markdown",
   "metadata": {},
   "source": [
    "## Why Python?\n",
    "\n",
    "### Great for scripting\n",
    "\n",
    "* Interpreted\n",
    "* Lightweight\n",
    "* Fast\n",
    "\n",
    "### Great for programming\n",
    "\n",
    "* Object-oriented\n",
    "* Popular: many libraries/modules already written\n",
    "* Cross platform\n",
    "\n",
    "### Easy to learn\n",
    "\n",
    "* High readability\n",
    "* Dynamically typed\n",
    "* No memory management\n"
   ]
  },
  {
   "cell_type": "markdown",
   "metadata": {},
   "source": [
    "## Kernels, Interpreters, and Shells\n",
    "\n",
    "### Kernel\n",
    "\n",
    "<img src=\"images/kernel2.png\", width=500, height=500>\n",
    "<center>[Hash Rootz](https://hashrootz.blogspot.com/2015/11/kernal-shell-concept.html)</center>\n",
    "\n",
    "* The *core* of a computer's operating system.\n",
    "* Directly controls the CPU, memory, and other hardware devices\n",
    "* **The \"kernel\" can also be which version of Python (or R) you are using**\n",
    "\n",
    "### Shell\n",
    "\n",
    "* Interface between the user (or applications) and the kernel\n",
    "* Command line interpreter: terminal, command prompt\n",
    "* Linux/Unix shells: bash, tcsh, zsh, sh\n",
    "* **The Python \"shell\" interacts with the Python \"kernel\"**\n",
    "\n",
    "### Python Interpreter\n",
    "\n"
   ]
  },
  {
   "cell_type": "markdown",
   "metadata": {},
   "source": [
    "## Integrated Development Environment (IDE)\n",
    "\n",
    "* Do you need an IDE?\n",
    "* Text editors\n",
    "* Debuggers\n",
    "\n",
    "### Python IDLE\n",
    "\n",
    "### Common IDEs\n",
    "\n",
    "### Spyder"
   ]
  },
  {
   "cell_type": "markdown",
   "metadata": {},
   "source": [
    "## Anaconda\n",
    "\n",
    "### Conda\n",
    "\n",
    "### Miniconda\n",
    "\n",
    "### Anaconda\n",
    "\n"
   ]
  },
  {
   "cell_type": "markdown",
   "metadata": {},
   "source": [
    "## Jupyter Notebooks\n",
    "\n"
   ]
  },
  {
   "cell_type": "markdown",
   "metadata": {},
   "source": [
    "## GitHub"
   ]
  },
  {
   "cell_type": "code",
   "execution_count": null,
   "metadata": {
    "collapsed": true
   },
   "outputs": [],
   "source": []
  }
 ],
 "metadata": {
  "kernelspec": {
   "display_name": "Python 3",
   "language": "python",
   "name": "python3"
  },
  "language_info": {
   "codemirror_mode": {
    "name": "ipython",
    "version": 3
   },
   "file_extension": ".py",
   "mimetype": "text/x-python",
   "name": "python",
   "nbconvert_exporter": "python",
   "pygments_lexer": "ipython3",
   "version": "3.6.0"
  }
 },
 "nbformat": 4,
 "nbformat_minor": 2
}
