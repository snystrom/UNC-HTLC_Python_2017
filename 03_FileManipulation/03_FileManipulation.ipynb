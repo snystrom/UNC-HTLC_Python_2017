{
 "cells": [
  {
   "cell_type": "markdown",
   "metadata": {},
   "source": [
    "# Manipulating Files Cont."
   ]
  },
  {
   "cell_type": "markdown",
   "metadata": {
    "collapsed": true
   },
   "source": [
    "Today we'll be working with a series of simulated datasets! See the `Scripts/` directory to see how I generated these files. \n"
   ]
  },
  {
   "cell_type": "markdown",
   "metadata": {
    "collapsed": true
   },
   "source": [
    "# Outline:\n",
    "## Review reading files\n",
    "\n",
    " - How to ignore lines we don't want using `continue`\n",
    "   - Fasta\n",
    "\n",
    "\n",
    "## Reading different common filetypes with `.split(delim)`\n",
    " - bedfiles (tab-separated)\n",
    "   - are binding sites in `regions.bed` the same size as non-binding sites?\n",
    "   - do binding sites tend to open, close, or stay the same?\n",
    " \n",
    "\n",
    "## Using dictionaries to key values"
   ]
  },
  {
   "cell_type": "code",
   "execution_count": 71,
   "metadata": {},
   "outputs": [
    {
     "name": "stdout",
     "output_type": "stream",
     "text": [
      "Average size of bound peaks: 58 bp\n",
      "Average size of unbound peaks: 233 bp\n"
     ]
    }
   ],
   "source": [
    "bed = open('Data/chip-seq.bed', 'r')\n",
    "entries = bed.readlines()\n",
    "bed.close()\n",
    "\n",
    "# Column names assigned to 'col' dictionary to make indexing more human-readable\n",
    "col = {'chr':0, 'start':1, 'end':2, 'behavior':3, 'bound':4}\n",
    "\n",
    "bedList = []\n",
    "for line in entries:\n",
    "    peak = line.rstrip().split('\\t') \n",
    "    bedList.append(peak)\n",
    "    \n",
    "boundPeaks = []\n",
    "unboundPeaks = []\n",
    "for peak in bedList:\n",
    "    if peak[col['bound']] == 'bound':\n",
    "        boundPeaks.append(peak)\n",
    "    elif peak[col['bound']] == 'unbound':\n",
    "        unboundPeaks.append(peak)\n",
    "    else:\n",
    "        print(peak)\n",
    "        print('ERROR! No peak Binding data') \n",
    "        \n",
    "boundWidth = []\n",
    "unboundWidth = []\n",
    "\n",
    "for bound, unbound in zip(boundPeaks, unboundPeaks):\n",
    "    start = int(bound[col['start']])\n",
    "    end = int(bound[col['end']])\n",
    "    width = end - start\n",
    "    boundWidth.append(width)\n",
    "    \n",
    "    start = int(unbound[col['start']])\n",
    "    end = int(unbound[col['end']])\n",
    "    width = end - start\n",
    "    unboundWidth.append(width)\n",
    "    \n",
    "meanBound = sum(boundWidth)/len(boundPeaks)\n",
    "meanUnbound = sum(unboundWidth)/len(unboundPeaks)\n",
    "\n",
    "print('Average size of bound peaks: {0} bp'.format(int(meanBound)))\n",
    "print('Average size of unbound peaks: {0} bp'.format(int(meanUnbound)))"
   ]
  },
  {
   "cell_type": "markdown",
   "metadata": {},
   "source": [
    "# Make PWM \n",
    "## Exercise? Homework question?\n",
    "Makes position weight matrix from equal length sequences in fasta file:\n",
    "\n",
    "<http://weblogo.berkeley.edu/logo.cgi>"
   ]
  },
  {
   "cell_type": "code",
   "execution_count": 6,
   "metadata": {},
   "outputs": [
    {
     "name": "stdout",
     "output_type": "stream",
     "text": [
      "A\n",
      "[0.79, 0.07, 0.11, 0.75, 0.21, 0.22]\n",
      "T\n",
      "[0.21, 0.24, 0.83, 0.13, 0.06, 0.78]\n",
      "G\n",
      "[0.0, 0.46, 0.03, 0.1, 0.17, 0.0]\n",
      "C\n",
      "[0.0, 0.23, 0.03, 0.02, 0.56, 0.0]\n"
     ]
    }
   ],
   "source": [
    "sequences = []\n",
    "with open('PWM.fa', 'r') as infile:\n",
    "    for line in infile:\n",
    "        entry = line.rstrip().split()[0]\n",
    "        if entry[0] == '>':\n",
    "            # Skip header lines\n",
    "            continue\n",
    "        else:\n",
    "            # Save lines containing DNA sequence\n",
    "            sequences.append(entry)\n",
    "            \n",
    "if len(min(sequences)) != len(max(sequences)):\n",
    "       print('unequal sequence length!')\n",
    "else:\n",
    "      sequence_length = len(min(sequences)) \n",
    "       \n",
    "# Create lists which will track number of times that base occurrs at a given position\n",
    "A = []            \n",
    "T = []            \n",
    "G = []            \n",
    "C = []            \n",
    "\n",
    "for i in range(0, sequence_length):\n",
    "    A.append(0)\n",
    "    T.append(0)\n",
    "    G.append(0)\n",
    "    C.append(0)\n",
    " \n",
    "# Count number of times each basepair appears at each position\n",
    "for seq in sequences:\n",
    "    sequence = seq.split()[0]\n",
    "    \n",
    "    for position in range(0, len(sequence)):\n",
    "        base = sequence[position]  \n",
    "        \n",
    "        if base == \"A\":\n",
    "            A[position] += 1 \n",
    "        elif base == \"T\":\n",
    "            T[position] += 1 \n",
    "        elif base == \"G\":\n",
    "            G[position] += 1 \n",
    "        elif base == \"C\":\n",
    "            C[position] += 1 \n",
    "        else:\n",
    "            print(\"unknown base!\")\n",
    "            \n",
    "baseOrder = ['A', 'T', 'G', 'C']\n",
    "bpCount = [A, T, G, C]\n",
    "pwm = bpCount[:] \n",
    "\n",
    "# Calculate frequency of each nucleotide at a given position\n",
    "for base in pwm:\n",
    "    for position in range(0, len(base)):\n",
    "        _bpCount = base[position]\n",
    "        bpFreq = _bpCount / len(sequences)\n",
    "        base[position] = bpFreq\n",
    "\n",
    "# Simple way to print output:\n",
    "for base, bp in zip(baseOrder, pwm):\n",
    "    print(base)\n",
    "    print(bp)\n",
    "    "
   ]
  }
 ],
 "metadata": {
  "kernelspec": {
   "display_name": "Python 3",
   "language": "python",
   "name": "python3"
  },
  "language_info": {
   "codemirror_mode": {
    "name": "ipython",
    "version": 3
   },
   "file_extension": ".py",
   "mimetype": "text/x-python",
   "name": "python",
   "nbconvert_exporter": "python",
   "pygments_lexer": "ipython3",
   "version": "3.5.3"
  }
 },
 "nbformat": 4,
 "nbformat_minor": 2
}
