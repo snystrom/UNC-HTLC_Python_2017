{
 "cells": [
  {
   "cell_type": "markdown",
   "metadata": {},
   "source": [
    "# Manipulating Files Cont."
   ]
  },
  {
   "cell_type": "markdown",
   "metadata": {
    "collapsed": true
   },
   "source": [
    "Today we'll be working with a series of simulated datasets! See the `Scripts/` directory to see how I generated these files. \n"
   ]
  },
  {
   "cell_type": "markdown",
   "metadata": {
    "collapsed": true
   },
   "source": [
    "# Outline:\n",
    "## Review reading files\n",
    "\n",
    " - How to ignore lines we don't want using `continue`\n",
    "   - Fasta\n",
    "\n",
    "\n",
    "## Reading different common filetypes with `.split(delim)`\n",
    " - bedfiles (tab-separated)\n",
    "   - are binding sites in `regions.bed` the same size as non-binding sites?\n",
    "   - do binding sites tend to open, close, or stay the same?\n",
    " \n",
    "\n",
    "## Using dictionaries to key values"
   ]
  },
  {
   "cell_type": "markdown",
   "metadata": {},
   "source": [
    "# Break up below function into steps for practicing reading file\n",
    "## Exercise:\n",
    " - Are bound vs. unbound peaks larger or smaller?\n",
    " - Do bound vs. unbound peaks tend to open, close, stay static?\n",
    "\n",
    "### Questions:\n",
    "1. do we need to ignore any lines? \n",
    "1. What's a good way to make sense of each column? ** USE DICTIONARY**\n",
    "1. How can we split up peaks into two groups? \n",
    "1. How can we split up peaks into two groups? "
   ]
  },
  {
   "cell_type": "code",
   "execution_count": 150,
   "metadata": {
    "collapsed": false
   },
   "outputs": [
    {
     "name": "stdout",
     "output_type": "stream",
     "text": [
      "Average size of bound peaks: 60 bp\n",
      "Average size of unbound peaks: 767 bp\n",
      "\n",
      "Bound Peaks:\n",
      "Opening: 107\n",
      "Closing: 23\n",
      "Static: 16\n",
      "\n",
      "Unbound Peaks:\n",
      "Opening: 88\n",
      "Closing: 55\n",
      "Static: 211\n"
     ]
    }
   ],
   "source": [
    "bed = open('Data/chip-seq.bed', 'r')\n",
    "entries = bed.readlines()\n",
    "bed.close()\n",
    "\n",
    "# Column names assigned to 'col' dictionary to make indexing more human-readable\n",
    "col = {'chr':0, 'start':1, 'end':2, 'behavior':3, 'bound':4}\n",
    "\n",
    "bedList = []\n",
    "for line in entries:\n",
    "    peak = line.rstrip().split('\\t') \n",
    "    bedList.append(peak)\n",
    "\n",
    "boundPeaks = []\n",
    "unboundPeaks = []\n",
    "for peak in bedList:\n",
    "    if peak[col['bound']] == 'bound':\n",
    "        boundPeaks.append(peak)\n",
    "    elif peak[col['bound']] == 'unbound':\n",
    "        unboundPeaks.append(peak)\n",
    "    else:\n",
    "        print(peak)\n",
    "        print('ERROR! No peak Binding data') \n",
    "        \n",
    "\n",
    "boundWidth = []\n",
    "for bound in boundPeaks:\n",
    "    start = int(bound[col['start']])\n",
    "    end = int(bound[col['end']])\n",
    "    width = end - start\n",
    "    boundWidth.append(width)\n",
    "    \n",
    "unboundWidth = []\n",
    "for unbound in unboundPeaks:\n",
    "    start = int(unbound[col['start']])\n",
    "    end = int(unbound[col['end']])\n",
    "    width = end - start\n",
    "    unboundWidth.append(width)\n",
    "    \n",
    "meanBound = sum(boundWidth)/len(boundWidth)\n",
    "meanUnbound = sum(unboundWidth)/len(unboundWidth)\n",
    "\n",
    "print('Average size of bound peaks: {0} bp'.format(round(meanBound)))\n",
    "print('Average size of unbound peaks: {0} bp'.format(round(meanUnbound)))\n",
    "\n",
    "# What types of behavior do bound peaks have?\n",
    "peakOpen = 0 \n",
    "peakClose = 0 \n",
    "peakStatic = 0 \n",
    "for peak in boundPeaks:\n",
    "    behavior = peak[col['behavior']]\n",
    "    if behavior == 'opening':\n",
    "        peakOpen += 1\n",
    "    elif behavior == 'closing':\n",
    "        peakClose += 1\n",
    "    elif behavior == 'static':\n",
    "        peakStatic += 1\n",
    "    else:\n",
    "        print(peak)\n",
    "        print('ERROR! unknown behavior')\n",
    "\n",
    "print('\\nBound Peaks:')\n",
    "print('Opening: {0}'.format(peakOpen))              \n",
    "print('Closing: {0}'.format(peakClose))              \n",
    "print('Static: {0}'.format(peakStatic))              \n",
    "        \n",
    "    \n",
    "peakOpen = 0 \n",
    "peakClose = 0 \n",
    "peakStatic = 0 \n",
    "for peak in unboundPeaks:\n",
    "    behavior = peak[col['behavior']]\n",
    "    if behavior == 'opening':\n",
    "        peakOpen += 1\n",
    "    elif behavior == 'closing':\n",
    "        peakClose += 1\n",
    "    elif behavior == 'static':\n",
    "        peakStatic += 1\n",
    "    else:\n",
    "        print(peak)\n",
    "        print('ERROR! unknown behavior')\n",
    "\n",
    "print('\\nUnbound Peaks:')\n",
    "print('Opening: {0}'.format(peakOpen))              \n",
    "print('Closing: {0}'.format(peakClose))              \n",
    "print('Static: {0}'.format(peakStatic))              "
   ]
  },
  {
   "cell_type": "markdown",
   "metadata": {},
   "source": [
    "# Functions\n",
    "\n",
    "In the above script, we wind up repeating a lot of code. \n",
    "We can fix this by writing **Functions** which are small bits of code that can be run on many different inputs.\n"
   ]
  },
  {
   "cell_type": "markdown",
   "metadata": {},
   "source": [
    "### Simple example of how functions work\n",
    "# NEED EXAMPLE"
   ]
  },
  {
   "cell_type": "markdown",
   "metadata": {},
   "source": [
    "## Let's write a function to simplify this part of the script"
   ]
  },
  {
   "cell_type": "code",
   "execution_count": 149,
   "metadata": {
    "collapsed": false
   },
   "outputs": [
    {
     "name": "stdout",
     "output_type": "stream",
     "text": [
      "Average size of bound peaks: 60 bp\n",
      "Average size of unbound peaks: 767 bp\n"
     ]
    }
   ],
   "source": [
    "boundWidth = []\n",
    "for bound in boundPeaks:\n",
    "    start = int(bound[col['start']])\n",
    "    end = int(bound[col['end']])\n",
    "    width = end - start\n",
    "    boundWidth.append(width)\n",
    "    \n",
    "unboundWidth = []\n",
    "for unbound in unboundPeaks:\n",
    "    start = int(unbound[col['start']])\n",
    "    end = int(unbound[col['end']])\n",
    "    width = end - start\n",
    "    unboundWidth.append(width)\n",
    "    \n",
    "meanBound = sum(boundWidth)/len(boundWidth)\n",
    "meanUnbound = sum(unboundWidth)/len(unboundWidth)\n",
    "\n",
    "print('Average size of bound peaks: {0} bp'.format(round(meanBound)))\n",
    "print('Average size of unbound peaks: {0} bp'.format(round(meanUnbound)))"
   ]
  },
  {
   "cell_type": "markdown",
   "metadata": {},
   "source": [
    "### Some things to think about:\n",
    "1. What output do we want?\n",
    " - What steps do we need to take to get the output?\n",
    "1. What are the parts that are reused?\n",
    " - How can we generalize them?"
   ]
  },
  {
   "cell_type": "code",
   "execution_count": 148,
   "metadata": {
    "collapsed": false
   },
   "outputs": [
    {
     "name": "stdout",
     "output_type": "stream",
     "text": [
      "Average size of bound peaks: 60 bp\n",
      "Average size of unbound peaks: 767 bp\n"
     ]
    }
   ],
   "source": [
    "# Scratch space for making script in class\n",
    "\n",
    "boundWidth = []\n",
    "for bound in boundPeaks:\n",
    "    start = int(bound[col['start']])\n",
    "    end = int(bound[col['end']])\n",
    "    width = end - start\n",
    "    boundWidth.append(width)\n",
    "    \n",
    "unboundWidth = []\n",
    "for unbound in unboundPeaks:\n",
    "    start = int(unbound[col['start']])\n",
    "    end = int(unbound[col['end']])\n",
    "    width = end - start\n",
    "    unboundWidth.append(width)\n",
    "    \n",
    "meanBound = sum(boundWidth)/len(boundPeaks)\n",
    "meanUnbound = sum(unboundWidth)/len(unboundPeaks)\n",
    "\n",
    "print('Average size of bound peaks: {0} bp'.format(round(meanBound)))\n",
    "print('Average size of unbound peaks: {0} bp'.format(round(meanUnbound)))"
   ]
  },
  {
   "cell_type": "markdown",
   "metadata": {},
   "source": [
    "..."
   ]
  },
  {
   "cell_type": "markdown",
   "metadata": {},
   "source": [
    "..."
   ]
  },
  {
   "cell_type": "markdown",
   "metadata": {},
   "source": [
    "..."
   ]
  },
  {
   "cell_type": "markdown",
   "metadata": {},
   "source": [
    "..."
   ]
  },
  {
   "cell_type": "markdown",
   "metadata": {},
   "source": [
    "..."
   ]
  },
  {
   "cell_type": "markdown",
   "metadata": {},
   "source": [
    "..."
   ]
  },
  {
   "cell_type": "markdown",
   "metadata": {},
   "source": [
    "..."
   ]
  },
  {
   "cell_type": "markdown",
   "metadata": {},
   "source": [
    "..."
   ]
  },
  {
   "cell_type": "markdown",
   "metadata": {},
   "source": [
    "..."
   ]
  },
  {
   "cell_type": "markdown",
   "metadata": {},
   "source": [
    "..."
   ]
  },
  {
   "cell_type": "markdown",
   "metadata": {},
   "source": [
    "..."
   ]
  },
  {
   "cell_type": "markdown",
   "metadata": {},
   "source": [
    "..."
   ]
  },
  {
   "cell_type": "markdown",
   "metadata": {},
   "source": [
    "..."
   ]
  },
  {
   "cell_type": "markdown",
   "metadata": {},
   "source": [
    "..."
   ]
  },
  {
   "cell_type": "markdown",
   "metadata": {},
   "source": [
    "..."
   ]
  },
  {
   "cell_type": "markdown",
   "metadata": {},
   "source": [
    "..."
   ]
  },
  {
   "cell_type": "markdown",
   "metadata": {},
   "source": [
    "..."
   ]
  },
  {
   "cell_type": "code",
   "execution_count": 147,
   "metadata": {
    "collapsed": false
   },
   "outputs": [
    {
     "name": "stdout",
     "output_type": "stream",
     "text": [
      "Average size of bound peaks: 60 bp\n",
      "Average size of unbound peaks: 767 bp\n"
     ]
    }
   ],
   "source": [
    "def getMeanWidths(peaks, colNames):\n",
    "    widths = []\n",
    "    for peak in peaks:\n",
    "        start = int(peak[colNames['start']])\n",
    "        end = int(peak[colNames['end']])\n",
    "        width = end - start\n",
    "        widths.append(width)\n",
    "        \n",
    "    meanWidth = sum(widths) / len(widths)\n",
    "    return(meanWidth)\n",
    "        \n",
    "    \n",
    "meanBound = getMeanWidths(boundPeaks, col) \n",
    "meanUnbound = getMeanWidths(unboundPeaks, col)\n",
    "\n",
    "print('Average size of bound peaks: {0} bp'.format(round(meanBound)))\n",
    "print('Average size of unbound peaks: {0} bp'.format(round(meanUnbound)))"
   ]
  },
  {
   "cell_type": "markdown",
   "metadata": {},
   "source": [
    "## Exercise:\n",
    "### Write a function that will simplify this part of the script"
   ]
  },
  {
   "cell_type": "code",
   "execution_count": 140,
   "metadata": {
    "collapsed": false
   },
   "outputs": [
    {
     "name": "stdout",
     "output_type": "stream",
     "text": [
      "\n",
      "Bound Peaks:\n",
      "Opening: 107\n",
      "Closing: 23\n",
      "Static: 16\n",
      "\n",
      "Unbound Peaks:\n",
      "Opening: 88\n",
      "Closing: 55\n",
      "Static: 211\n"
     ]
    }
   ],
   "source": [
    "peakOpen = 0 \n",
    "peakClose = 0 \n",
    "peakStatic = 0 \n",
    "for peak in boundPeaks:\n",
    "    behavior = peak[col['behavior']]\n",
    "    if behavior == 'opening':\n",
    "        peakOpen += 1\n",
    "    elif behavior == 'closing':\n",
    "        peakClose += 1\n",
    "    elif behavior == 'static':\n",
    "        peakStatic += 1\n",
    "    else:\n",
    "        print(peak)\n",
    "        print('ERROR! unknown behavior')\n",
    "\n",
    "print('\\nBound Peaks:')\n",
    "print('Opening: {0}'.format(peakOpen))              \n",
    "print('Closing: {0}'.format(peakClose))              \n",
    "print('Static: {0}'.format(peakStatic))              \n",
    "        \n",
    "    \n",
    "peakOpen = 0 \n",
    "peakClose = 0 \n",
    "peakStatic = 0 \n",
    "for peak in unboundPeaks:\n",
    "    behavior = peak[col['behavior']]\n",
    "    if behavior == 'opening':\n",
    "        peakOpen += 1\n",
    "    elif behavior == 'closing':\n",
    "        peakClose += 1\n",
    "    elif behavior == 'static':\n",
    "        peakStatic += 1\n",
    "    else:\n",
    "        print(peak)\n",
    "        print('ERROR! unknown behavior')\n",
    "\n",
    "print('\\nUnbound Peaks:')\n",
    "print('Opening: {0}'.format(peakOpen))              \n",
    "print('Closing: {0}'.format(peakClose))              \n",
    "print('Static: {0}'.format(peakStatic))              "
   ]
  },
  {
   "cell_type": "code",
   "execution_count": 33,
   "metadata": {
    "collapsed": false
   },
   "outputs": [
    {
     "name": "stdout",
     "output_type": "stream",
     "text": [
      "\n",
      "Bound Peaks:\n",
      "Opening: 107\n",
      "Closing: 23\n",
      "Static: 16\n",
      "\n",
      "Unbound Peaks:\n",
      "Opening: 88\n",
      "Closing: 55\n",
      "Static: 211\n"
     ]
    }
   ],
   "source": [
    "def countPeakBehavior(peakList):\n",
    "    peakOpen = 0 \n",
    "    peakClose = 0 \n",
    "    peakStatic = 0 \n",
    "    \n",
    "    for peak in peakList:\n",
    "        behavior = peak[col['behavior']]\n",
    "        if behavior == 'opening':\n",
    "            peakOpen += 1\n",
    "        elif behavior == 'closing':\n",
    "            peakClose += 1\n",
    "        elif behavior == 'static':\n",
    "            peakStatic += 1\n",
    "        else:\n",
    "            print(peak)\n",
    "            print('ERROR! unknown behavior')\n",
    "            \n",
    "    output = {'opening':peakOpen, 'closing':peakClose, 'static':peakStatic}\n",
    "    return(output)\n",
    "\n",
    "boundBehaviorCounts = countPeakBehavior(boundPeaks)\n",
    "unboundBehaviorCounts = countPeakBehavior(unboundPeaks)\n",
    "\n",
    "names = ['Bound', 'Unbound']\n",
    "counts = [boundBehaviorCounts, unboundBehaviorCounts]\n",
    "\n",
    "for name, count in zip(names, counts):\n",
    "    print('\\n{0} Peaks:'.format(name))\n",
    "    print('Opening: {0}'.format(count['opening']))\n",
    "    print('Closing: {0}'.format(count['closing']))\n",
    "    print('Static: {0}'.format(count['static']))\n"
   ]
  },
  {
   "cell_type": "markdown",
   "metadata": {},
   "source": [
    "# Dictionaries are awesome"
   ]
  },
  {
   "cell_type": "code",
   "execution_count": 34,
   "metadata": {
    "collapsed": false
   },
   "outputs": [
    {
     "name": "stdout",
     "output_type": "stream",
     "text": [
      "[1, 2, 3]\n"
     ]
    }
   ],
   "source": [
    "L1 = [1,2,3]\n",
    "L2 = [4,5,6]\n",
    "L3 = [7,8,9]\n",
    "d = {'one':L1, 'two':L2, 'three':L3}\n",
    "\n",
    "print(d['one'])"
   ]
  },
  {
   "cell_type": "markdown",
   "metadata": {},
   "source": [
    "# Make PWM \n",
    "## Exercise? Homework question?\n",
    "Makes position weight matrix from equal length sequences in fasta file:\n",
    "\n",
    "<http://weblogo.berkeley.edu/logo.cgi>"
   ]
  },
  {
   "cell_type": "code",
   "execution_count": 3,
   "metadata": {
    "collapsed": false
   },
   "outputs": [
    {
     "name": "stdout",
     "output_type": "stream",
     "text": [
      "A: [0.7, 0.04, 0.09, 0.74, 0.05, 0.13]\n",
      "T: [0.3, 0.11, 0.79, 0.13, 0.13, 0.87]\n",
      "G: [0.0, 0.76, 0.05, 0.07, 0.14, 0.0]\n",
      "C: [0.0, 0.09, 0.07, 0.06, 0.68, 0.0]\n"
     ]
    }
   ],
   "source": [
    "sequences = []\n",
    "with open('Data/PWM.fa', 'r') as infile:\n",
    "    for line in infile:\n",
    "        entry = line.rstrip().split()[0]\n",
    "        if entry[0] == '>':\n",
    "            # Skip header lines\n",
    "            continue\n",
    "        else:\n",
    "            # Save lines containing DNA sequence\n",
    "            sequences.append(entry)\n",
    "            \n",
    "if len(min(sequences)) != len(max(sequences)):\n",
    "       print('unequal sequence length!')\n",
    "else:\n",
    "      sequence_length = len(min(sequences)) \n",
    "       \n",
    "# Create lists which will track number of times that base occurrs at a given position\n",
    "A = []            \n",
    "T = []            \n",
    "G = []            \n",
    "C = []            \n",
    "\n",
    "for i in range(0, sequence_length):\n",
    "    A.append(0)\n",
    "    T.append(0)\n",
    "    G.append(0)\n",
    "    C.append(0)\n",
    " \n",
    "# Count number of times each basepair appears at each position\n",
    "for seq in sequences:\n",
    "    sequence = seq.split()[0]\n",
    "    \n",
    "    for position in range(0, len(sequence)):\n",
    "        base = sequence[position]  \n",
    "        \n",
    "        if base == \"A\":\n",
    "            A[position] += 1 \n",
    "        elif base == \"T\":\n",
    "            T[position] += 1 \n",
    "        elif base == \"G\":\n",
    "            G[position] += 1 \n",
    "        elif base == \"C\":\n",
    "            C[position] += 1 \n",
    "        else:\n",
    "            print(\"Unknown base at position: {0}\".format(position))\n",
    "            \n",
    "baseOrder = ['A', 'T', 'G', 'C']\n",
    "bpCount = [A, T, G, C]\n",
    "pwm = bpCount[:] \n",
    "\n",
    "# Calculate frequency of each nucleotide at a given position\n",
    "for base in pwm:\n",
    "    for position in range(0, len(base)):\n",
    "        _bpCount = base[position]\n",
    "        bpFreq = _bpCount / len(sequences)\n",
    "        base[position] = bpFreq\n",
    "\n",
    "# Simple way to print output:\n",
    "for base, bp in zip(baseOrder, pwm):\n",
    "    print('{0}: {1}'.format(base, bp))"
   ]
  },
  {
   "cell_type": "markdown",
   "metadata": {},
   "source": [
    "# Outside of Class\n",
    "# Regular Expressions"
   ]
  },
  {
   "cell_type": "markdown",
   "metadata": {},
   "source": [
    "# ?? "
   ]
  }
 ],
 "metadata": {
  "kernelspec": {
   "display_name": "Python 3",
   "language": "python",
   "name": "python3"
  },
  "language_info": {
   "codemirror_mode": {
    "name": "ipython",
    "version": 3
   },
   "file_extension": ".py",
   "mimetype": "text/x-python",
   "name": "python",
   "nbconvert_exporter": "python",
   "pygments_lexer": "ipython3",
   "version": "3.6.0"
  }
 },
 "nbformat": 4,
 "nbformat_minor": 2
}
