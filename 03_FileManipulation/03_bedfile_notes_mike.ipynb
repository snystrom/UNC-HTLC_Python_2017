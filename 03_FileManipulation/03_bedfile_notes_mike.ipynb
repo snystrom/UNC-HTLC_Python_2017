{
 "cells": [
  {
   "cell_type": "code",
   "execution_count": 14,
   "metadata": {},
   "outputs": [
    {
     "name": "stdout",
     "output_type": "stream",
     "text": [
      "[594, 33, 824, 724, 619, 720, 550, 594, 28, 924, 572, 622, 560, 843, 790, 59, 960, 970, 819, 711, 943, 900, 957, 976, 892, 85, 936, 969, 886, 721, 750, 783, 948, 646, 100, 65, 822, 27, 941, 81, 824, 934, 555, 648, 959, 689, 765, 866, 65, 75, 824, 89, 715, 566, 762, 877, 73, 995, 892, 30, 815, 706, 945, 977, 614, 814, 635, 771, 619, 560, 77, 955, 817, 814, 620, 33, 738, 841, 689, 654, 753, 591, 652, 687, 593, 592, 825, 964, 81, 753, 915, 82, 664, 98, 954, 83, 849, 26, 78, 988, 733, 779, 935, 43, 581, 806, 639, 738, 35, 969, 578, 95, 605, 941, 881, 76, 64, 783, 690, 643, 74, 617, 25, 622, 739, 24, 857, 94, 923, 28, 636, 767, 556, 41, 687, 941, 44, 993, 694, 602, 829, 44, 70, 955, 580, 939, 732, 37, 673, 46, 23, 61, 25, 1000, 699, 607, 879, 813, 735, 665, 85, 836, 29, 571, 80, 612, 730, 558, 730, 659, 604, 935, 890, 592, 642, 998, 985, 31, 32, 784, 888, 578, 786, 892, 775, 672, 75, 623, 554, 892, 952, 581, 583, 697, 835, 97, 765, 739, 73, 57, 903, 729, 551, 743, 716, 33, 823, 875, 46, 948, 884, 633, 683, 870, 648, 601, 859, 612, 579, 616, 597, 815, 35, 718, 960, 50, 979, 601, 69, 642, 550, 672, 763, 983, 88, 41, 706, 562, 841, 841, 89, 708, 90, 890, 695, 658, 766, 39, 574, 974, 94, 841, 823, 975, 774, 709, 895, 987, 915, 760, 746, 643, 33, 47, 961, 94, 811, 684, 43, 982, 20, 913, 938, 857, 885, 958, 565, 79, 56, 838, 952, 636, 576, 82, 765, 886, 668, 619, 914, 799, 668, 721, 873, 54, 796, 602, 814, 570, 963, 71, 835, 884, 798, 552, 691, 808, 584, 80, 574, 763, 777, 607, 730, 948, 830, 923, 724, 644, 779, 896, 21, 614, 89, 586, 957, 835, 21, 813, 83, 646, 49, 73, 752, 810, 650, 35, 647, 583, 880, 773, 570, 598, 751, 982, 64, 860, 563, 806, 972, 696, 696, 859, 665, 993, 791, 719, 793, 984, 40, 81, 870, 963, 918, 883, 788, 862, 92, 821, 946, 906, 810, 862, 670, 816, 763, 69, 738, 873, 64, 621, 629, 687, 863, 44, 26, 648, 23, 945, 890, 570, 571, 30, 772, 834, 97, 33, 629, 707, 941, 738, 865, 75, 857, 623, 703, 624, 45, 41, 35, 871, 22, 942, 832, 99, 994, 687, 702, 627, 44, 914, 812, 586, 715, 75, 32, 562, 721, 965, 704, 803, 740, 733, 93, 602, 915, 77, 627, 42, 919, 623, 927, 68, 843, 1000, 909, 883, 668, 96, 96, 962, 914, 788, 892, 561, 961, 82, 944, 821, 879, 755, 578, 764, 61, 668, 704, 635, 942, 81, 578, 79, 602, 570, 868, 617, 560, 85, 795, 804, 44, 750, 99, 648, 896, 649, 990, 620, 70, 676, 740, 604, 987, 22, 938, 99, 946, 604, 650, 760, 851, 95]\n"
     ]
    }
   ],
   "source": [
    "#######\n",
    "# Read in all lines from chip-seq.bed file\n",
    "#######\n",
    "\n",
    "# open file for read\n",
    "seq = open('chip-seq.bed', 'r')\n",
    "# read in all lines of file\n",
    "lines = seq.readlines()\n",
    "# close file\n",
    "seq.close()\n",
    "\n",
    "#######\n",
    "# Define dictionary for parsing bed file\n",
    "#######\n",
    "column = {'chr':0, 'start':1, 'end':2, 'behavior':3, 'bound':4} \n",
    "\n",
    "#######\n",
    "# Parse each line of bed file as a list of peaks\n",
    "#######\n",
    "peakList = [] \n",
    "# loop through each line in bedfile (each line is peak)\n",
    "for line in lines:\n",
    "    peak = line.rstrip().split('\\t')\n",
    "    peakList.append(peak)\n",
    "\n",
    "########\n",
    "# Sort peaks into 'bound' and 'unbound'\n",
    "########\n",
    "\n",
    "# define empty list for bound peaks\n",
    "boundPeaks = [] \n",
    "# define empty list for unbound peaks\n",
    "unboundPeaks = [] \n",
    "\n",
    "# loop through each peak in bedList\n",
    "for peak in peakList:\n",
    "    # if this peak is bound\n",
    "    if peak[column['bound']] == 'bound':\n",
    "        boundPeaks.append(peak)\n",
    "    # if-else this peak is unbound\n",
    "    elif peak[ column['bound'] ] == 'unbound':\n",
    "        unboundPeaks.append(peak)\n",
    "    # else something isnt right\n",
    "    else:\n",
    "        print(\"ERROR! No peak binding data!\")\n",
    "        print(peak) \n",
    "\n",
    "\n",
    "# define function to make a list of peak widths\n",
    "#INPUT: list of peaks (boundPeaks or unboundPeaks)\n",
    "#OUTPUT: list of peak widths (list of integers)\n",
    "def peakWidths(peakList):\n",
    "    # define list to hold peak widths\n",
    "    widths = [] \n",
    "    # loop through peaks in list\n",
    "    for peak in peakList:\n",
    "        # grab peak start position\n",
    "        start = int(peak[column['start']])\n",
    "        # grab peak end position\n",
    "        end = int(peak[column['end']])\n",
    "        # calculate peak width\n",
    "        width = end - start\n",
    "        # add peak width to our list of widths\n",
    "        widths.append(width)\n",
    "    # return list of peak widths\n",
    "    return widths\n",
    "\n",
    "# Call our function peakWidths\n",
    "widthsBoundPeaks = peakWidths(boundPeaks)\n",
    "widthsUnboundPeaks = peakWidths(unboundPeaks) \n",
    "\n",
    "print(peakWidths(peakList))  "
   ]
  },
  {
   "cell_type": "code",
   "execution_count": 6,
   "metadata": {},
   "outputs": [
    {
     "name": "stdout",
     "output_type": "stream",
     "text": [
      "['chr2R', '27202822', '27202917', 'opening', 'bound']\n"
     ]
    }
   ],
   "source": [
    "print(peak)"
   ]
  },
  {
   "cell_type": "code",
   "execution_count": null,
   "metadata": {
    "collapsed": true
   },
   "outputs": [],
   "source": []
  },
  {
   "cell_type": "code",
   "execution_count": null,
   "metadata": {
    "collapsed": true
   },
   "outputs": [],
   "source": []
  },
  {
   "cell_type": "code",
   "execution_count": null,
   "metadata": {
    "collapsed": true
   },
   "outputs": [],
   "source": []
  },
  {
   "cell_type": "code",
   "execution_count": null,
   "metadata": {
    "collapsed": true
   },
   "outputs": [],
   "source": []
  },
  {
   "cell_type": "code",
   "execution_count": null,
   "metadata": {
    "collapsed": true
   },
   "outputs": [],
   "source": [
    "\n",
    "\n",
    "\n",
    "\n",
    "\n",
    "\n",
    "\n",
    "\n",
    "\n",
    "\n",
    "\n",
    "\n",
    "\n",
    "\n",
    "\n",
    "\n"
   ]
  },
  {
   "cell_type": "code",
   "execution_count": null,
   "metadata": {
    "collapsed": true
   },
   "outputs": [],
   "source": [
    "\n",
    "\n",
    "#######\n",
    "# Calculate means bound and mean unbound peak width\n",
    "# Report values to user\n",
    "#######"
   ]
  }
 ],
 "metadata": {
  "kernelspec": {
   "display_name": "Python [conda root]",
   "language": "python",
   "name": "conda-root-py"
  },
  "language_info": {
   "codemirror_mode": {
    "name": "ipython",
    "version": 3
   },
   "file_extension": ".py",
   "mimetype": "text/x-python",
   "name": "python",
   "nbconvert_exporter": "python",
   "pygments_lexer": "ipython3",
   "version": "3.6.1"
  }
 },
 "nbformat": 4,
 "nbformat_minor": 2
}
