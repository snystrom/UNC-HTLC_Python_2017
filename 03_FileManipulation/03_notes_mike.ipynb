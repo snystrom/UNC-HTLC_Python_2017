{
 "cells": [
  {
   "cell_type": "markdown",
   "metadata": {},
   "source": [
    "# 03_FileManipulation\n",
    "\n",
    "## Read in Fasta sequences"
   ]
  },
  {
   "cell_type": "code",
   "execution_count": 13,
   "metadata": {},
   "outputs": [
    {
     "name": "stdout",
     "output_type": "stream",
     "text": [
      "Total Number of Sequences: 10\n",
      "Average Sequence Length: 25.0 bp\n",
      "Maximum Sequence Length: 25 bp\n",
      "Minimum Sequence Length: 25 bp\n"
     ]
    }
   ],
   "source": [
    "########\n",
    "# Read in fasta DNA sequence file\n",
    "# Discard header lines\n",
    "# Keep only DNA sequence lines\n",
    "#\n",
    "# Compute the lengths of each DNA sequence\n",
    "# Find min, max, and average sequence length\n",
    "#\n",
    "# Make sure \"shortReads.fa\" is in your current working directory\n",
    "# or you define the path to the file \"Desktop/shortReads.fa\"\n",
    "########\n",
    "\n",
    "# open shortReads.fa for reading\n",
    "fasta = open(\"shortReads.fa\", \"r\")\n",
    "# read lines from file into variable\n",
    "lines = fasta.readlines()\n",
    "# close file\n",
    "fasta.close()\n",
    "\n",
    "# list to store DNA sequences\n",
    "sequences = []\n",
    "\n",
    "# loop through each line to fine only DNA sequences\n",
    "for line in lines:\n",
    "    \n",
    "    # strip newline character from each line\n",
    "    entry = line.rstrip()\n",
    "    \n",
    "    # check for > at start of each entry\n",
    "    if entry[0] == \">\":\n",
    "        # if true, skip entry\n",
    "        continue\n",
    "    else:\n",
    "        # else add entry to sequence list\n",
    "        sequences.append(entry)\n",
    "# END OF FOR LOOP\n",
    "\n",
    "# list to store sequence lengths\n",
    "lengths = []\n",
    "\n",
    "# loop through each sequence and compute the length\n",
    "for sequence in sequences:\n",
    "    \n",
    "    # compute the length of each sequence, store in list\n",
    "    lengths.append(len(sequence))\n",
    "# END OF FOR LOOP\n",
    "\n",
    "# find minimum length sequence within list of lengths\n",
    "minLength = min(lengths)\n",
    "# find maximum length sequence\n",
    "maxLength = max(lengths)\n",
    "# compute average length of sequences in list\n",
    "avgLength = sum(lengths) / len(lengths)\n",
    "\n",
    "# output the calculated values\n",
    "print(\"Total Number of Sequences: {}\".format(len(sequences)))\n",
    "print(\"Average Sequence Length: {} bp\".format(avgLength))\n",
    "print(\"Maximum Sequence Length: {} bp\".format(maxLength))\n",
    "print(\"Minimum Sequence Length: {} bp\".format(minLength))\n",
    "\n"
   ]
  },
  {
   "cell_type": "markdown",
   "metadata": {
    "collapsed": true
   },
   "source": [
    "## Dictionaries (Hash Tables)\n",
    "\n",
    "list = [0, 1, 2, three]  \n",
    "\n",
    "dictionary = {'key' : value}"
   ]
  },
  {
   "cell_type": "code",
   "execution_count": 4,
   "metadata": {},
   "outputs": [
    {
     "name": "stdout",
     "output_type": "stream",
     "text": [
      "meow\n"
     ]
    },
    {
     "data": {
      "text/plain": [
       "{'cat': 'meow', 'cow': 'moo', 'dog': 'woof'}"
      ]
     },
     "execution_count": 4,
     "metadata": {},
     "output_type": "execute_result"
    }
   ],
   "source": [
    "# define a new dictionary\n",
    "animals = {'dog':'woof', 'cat':'meow', 'cow':'moo'}\n",
    "print(animals['cat']) #print the value by key \"look-up\"\n",
    "animals #data stored in alphabetical order"
   ]
  },
  {
   "cell_type": "code",
   "execution_count": 7,
   "metadata": {},
   "outputs": [
    {
     "name": "stdout",
     "output_type": "stream",
     "text": [
      "dict_keys(['dog', 'cat', 'cow'])\n",
      "dict_values(['woof', 'meow', 'moo'])\n"
     ]
    }
   ],
   "source": [
    "# print all keys in dictionary\n",
    "print(animals.keys())\n",
    "# print all values in dictionary\n",
    "print(animals.values())"
   ]
  },
  {
   "cell_type": "code",
   "execution_count": 8,
   "metadata": {},
   "outputs": [
    {
     "name": "stdout",
     "output_type": "stream",
     "text": [
      "woof\n",
      "meow\n",
      "moo\n"
     ]
    }
   ],
   "source": [
    "# loop through a dictionary with a for loop\n",
    "for animal in animals.keys():\n",
    "    print(animals[animal])"
   ]
  },
  {
   "cell_type": "code",
   "execution_count": 10,
   "metadata": {},
   "outputs": [
    {
     "name": "stdout",
     "output_type": "stream",
     "text": [
      "dict_values([[1, 2, 3, 4], ['a', 'b', 'c']])\n"
     ]
    }
   ],
   "source": [
    "# dictionaries can be complex\n",
    "# values of a dictionary can be a list\n",
    "complexDict = {'numbers':[1,2,3], 'letters':['a', 'b', 'c']}\n",
    "# add a number to the list at dictionary key 'numbers'\n",
    "complexDict['numbers'].append(4)\n",
    "# print out the values of the dictionary\n",
    "print(complexDict.values()) #4 has been added to the 'numbers' list"
   ]
  },
  {
   "cell_type": "markdown",
   "metadata": {},
   "source": [
    "## File Manipulation with Dictionaries\n",
    "\n",
    "Counting all the different bases in a fasta file"
   ]
  },
  {
   "cell_type": "code",
   "execution_count": 27,
   "metadata": {},
   "outputs": [
    {
     "name": "stdout",
     "output_type": "stream",
     "text": [
      "Total Number of Sequences: 10\n",
      "Average Sequence Length: 25.0 bp\n",
      "Maximum Sequence Length: 25 bp\n",
      "Minimum Sequence Length: 25 bp\n",
      "Number of bases across all sequences:\n",
      "{'A': 63, 'T': 50, 'C': 66, 'G': 71}\n"
     ]
    }
   ],
   "source": [
    "########\n",
    "# Read in fasta DNA sequence file\n",
    "# Discard header lines\n",
    "# Keep only DNA sequence lines\n",
    "#\n",
    "# Compute the lengths of each DNA sequence\n",
    "# Find min, max, and average sequence length\n",
    "#\n",
    "# Make sure \"shortReads.fa\" is in your current working directory\n",
    "# or you define the path to the file \"Desktop/shortReads.fa\"\n",
    "########\n",
    "\n",
    "# open shortReads.fa for reading\n",
    "fasta = open(\"shortReads.fa\", \"r\")\n",
    "# read lines from file into variable\n",
    "lines = fasta.readlines()\n",
    "# close file\n",
    "fasta.close()\n",
    "\n",
    "# list to store DNA sequences\n",
    "sequences = []\n",
    "\n",
    "# loop through each line to fine only DNA sequences\n",
    "for line in lines:\n",
    "    \n",
    "    # strip newline character from each line\n",
    "    entry = line.rstrip()\n",
    "    \n",
    "    # check for > at start of each entry\n",
    "    if entry[0] == \">\":\n",
    "        # if true, skip entry\n",
    "        continue\n",
    "    else:\n",
    "        # else add entry to sequence list\n",
    "        sequences.append(entry)\n",
    "# END OF FOR LOOP\n",
    "\n",
    "# list to store sequence lengths\n",
    "lengths = []\n",
    "\n",
    "# loop through each sequence and compute the length\n",
    "for sequence in sequences:\n",
    "    \n",
    "    # compute the length of each sequence, store in list\n",
    "    lengths.append(len(sequence))\n",
    "# END OF FOR LOOP\n",
    "\n",
    "# find minimum length sequence within list of lengths\n",
    "minLength = min(lengths)\n",
    "# find maximum length sequence\n",
    "maxLength = max(lengths)\n",
    "# compute average length of sequences in list\n",
    "avgLength = sum(lengths) / len(lengths)\n",
    "\n",
    "# output the calculated values\n",
    "print(\"Total Number of Sequences: {}\".format(len(sequences)))\n",
    "print(\"Average Sequence Length: {} bp\".format(avgLength))\n",
    "print(\"Maximum Sequence Length: {} bp\".format(maxLength))\n",
    "print(\"Minimum Sequence Length: {} bp\".format(minLength))\n",
    "\n",
    "#################################################\n",
    "# New code starts here!\n",
    "#################################################\n",
    "\n",
    "# dictionary to hold counts for each base\n",
    "bases = {'A':0, 'T':0, 'C':0, 'G':0}\n",
    "\n",
    "# a loop to go through each sequence in the list 'sequences'\n",
    "for sequence in sequences:\n",
    "\n",
    "    # count the number of time 'A' appears in this sequence, add to dictionary value at key 'A'\n",
    "    bases['A'] += sequence.count('A')\n",
    "    # repeat for 'C', 'T', and 'G'\n",
    "    bases['T'] += sequence.count('T')\n",
    "    bases['C'] += sequence.count('C')\n",
    "    bases['G'] += sequence.count('G')\n",
    "    \n",
    "# END OF FOR LOOP\n",
    "\n",
    "print(\"Number of bases across all sequences:\")\n",
    "print(bases)"
   ]
  },
  {
   "cell_type": "code",
   "execution_count": 23,
   "metadata": {},
   "outputs": [
    {
     "name": "stdout",
     "output_type": "stream",
     "text": [
      "Another way to count bases across all sequences:\n",
      "{'A': 63, 'T': 50, 'C': 66, 'G': 71}\n"
     ]
    }
   ],
   "source": [
    "#################################################\n",
    "# Another way to update dictionary values\n",
    "#################################################\n",
    "\n",
    "# dictionary to hold counts for each base\n",
    "bases = {'A':0, 'T':0, 'C':0, 'G':0}\n",
    "\n",
    "# a loop to go through each sequence in the list 'sequences'\n",
    "for sequence in sequences:\n",
    "\n",
    "    # loop through the keys in the dictionary 'bases'\n",
    "    for base in bases.keys():\n",
    "        # access each key in the dictionary bases\n",
    "        # use that key to count the bases in the sequence\n",
    "        bases[base] += sequence.count(base)\n",
    "    \n",
    "# END OF FOR LOOP\n",
    "\n",
    "print(\"Another way to count bases across all sequences:\")\n",
    "print(bases)"
   ]
  },
  {
   "cell_type": "code",
   "execution_count": 24,
   "metadata": {},
   "outputs": [
    {
     "name": "stdout",
     "output_type": "stream",
     "text": [
      "Number of A's: 63\n"
     ]
    }
   ],
   "source": [
    "# A nice way of reporting values to user\n",
    "print(\"Number of {base}'s: {count}\".format(base = 'A', count = bases['A']))"
   ]
  },
  {
   "cell_type": "code",
   "execution_count": 25,
   "metadata": {},
   "outputs": [
    {
     "name": "stdout",
     "output_type": "stream",
     "text": [
      "Number of A's: 63\n",
      "Number of T's: 50\n",
      "Number of C's: 66\n",
      "Number of G's: 71\n"
     ]
    }
   ],
   "source": [
    "# but we dont want to repeat this line for each base in the dictionary, lets use a loop\n",
    "for base in bases.keys():\n",
    "    print(\"Number of {base}'s: {count}\".format(base = base, count = bases[base]))"
   ]
  },
  {
   "cell_type": "code",
   "execution_count": 26,
   "metadata": {},
   "outputs": [
    {
     "name": "stdout",
     "output_type": "stream",
     "text": [
      "Number of A's: 63\n",
      "Number of T's: 50\n",
      "Number of C's: 66\n",
      "Number of G's: 71\n"
     ]
    }
   ],
   "source": [
    "# another way to write this (exactly the same as the above loop!)\n",
    "for key in bases.keys():\n",
    "    print(\"Number of {base}'s: {count}\".format(base = key, count = bases[key]))"
   ]
  },
  {
   "cell_type": "markdown",
   "metadata": {},
   "source": [
    "## Functions\n",
    "\n",
    "input -> myFunction -> output\n",
    "\n",
    "input aka parameters"
   ]
  },
  {
   "cell_type": "code",
   "execution_count": 29,
   "metadata": {},
   "outputs": [
    {
     "name": "stdout",
     "output_type": "stream",
     "text": [
      "5\n"
     ]
    }
   ],
   "source": [
    "# a really easy function to add two numbers\n",
    "a = 2\n",
    "b = 3\n",
    "\n",
    "# start a function definition with the keywork 'def'\n",
    "# name your function 'add'\n",
    "# define the input parameters\n",
    "# end define statement with a colon!\n",
    "def add(first_variable, second_variable):\n",
    "    # do some work inside the function, in our case add the two input parameters\n",
    "    mySum = first_variable + second_variable\n",
    "    # a special statement to return output to the user\n",
    "    return(mySum)\n",
    "# END OF FUNCTION DEFINITION\n",
    "\n",
    "# use our function in a print statement\n",
    "print(add(a, b))"
   ]
  },
  {
   "cell_type": "markdown",
   "metadata": {},
   "source": [
    "Let's write a function to count the bases in a given sequence."
   ]
  },
  {
   "cell_type": "code",
   "execution_count": 31,
   "metadata": {},
   "outputs": [
    {
     "data": {
      "text/plain": [
       "3"
      ]
     },
     "execution_count": 31,
     "metadata": {},
     "output_type": "execute_result"
    }
   ],
   "source": [
    "mySequence = 'AAATTTGGGCCC'\n",
    "\n",
    "mySequence.count('A')\n",
    "mySequence.count('T')\n",
    "mySequence.count('G')\n",
    "mySequence.count('C')"
   ]
  },
  {
   "cell_type": "code",
   "execution_count": 36,
   "metadata": {},
   "outputs": [
    {
     "name": "stdout",
     "output_type": "stream",
     "text": [
      "{'A': 3, 'T': 3, 'G': 3, 'C': 3}\n"
     ]
    }
   ],
   "source": [
    "mySequence = 'AAATTTGGGCCC'\n",
    "\n",
    "# using a dictionary\n",
    "bases = {'A':0, 'T':0, 'G':0, 'C':0}\n",
    "\n",
    "# loop through each key in dictionary\n",
    "for key in bases.keys():\n",
    "    bases[key] += mySequence.count(key)\n",
    "\n",
    "# print each the dictionary\n",
    "print(bases)"
   ]
  },
  {
   "cell_type": "code",
   "execution_count": 40,
   "metadata": {
    "collapsed": true
   },
   "outputs": [],
   "source": [
    "# wrap everything up into a function!\n",
    "\n",
    "def countBases(sequence):\n",
    "    # using a dictionary\n",
    "    bases = {'A':0, 'T':0, 'G':0, 'C':0}\n",
    "\n",
    "    # loop through each key in dictionary\n",
    "    for key in bases.keys():\n",
    "        bases[key] += sequence.count(key)\n",
    "\n",
    "    # return each the dictionary\n",
    "    return(bases)\n",
    "# END OF FUNCTION DEFINITION"
   ]
  },
  {
   "cell_type": "code",
   "execution_count": 43,
   "metadata": {},
   "outputs": [
    {
     "name": "stdout",
     "output_type": "stream",
     "text": [
      "{'A': 4, 'T': 4, 'G': 4, 'C': 4}\n"
     ]
    }
   ],
   "source": [
    "# lets use the function!\n",
    "\n",
    "sequenceCounts = countBases('AAAATTTTGGGGCCCC')\n",
    "\n",
    "print( sequenceCounts )"
   ]
  },
  {
   "cell_type": "code",
   "execution_count": null,
   "metadata": {
    "collapsed": true
   },
   "outputs": [],
   "source": []
  },
  {
   "cell_type": "code",
   "execution_count": null,
   "metadata": {
    "collapsed": true
   },
   "outputs": [],
   "source": []
  }
 ],
 "metadata": {
  "kernelspec": {
   "display_name": "Python [conda root]",
   "language": "python",
   "name": "conda-root-py"
  },
  "language_info": {
   "codemirror_mode": {
    "name": "ipython",
    "version": 3
   },
   "file_extension": ".py",
   "mimetype": "text/x-python",
   "name": "python",
   "nbconvert_exporter": "python",
   "pygments_lexer": "ipython3",
   "version": "3.6.1"
  }
 },
 "nbformat": 4,
 "nbformat_minor": 2
}
