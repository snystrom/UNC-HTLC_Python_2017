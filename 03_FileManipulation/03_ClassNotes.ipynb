{
 "cells": [
  {
   "cell_type": "markdown",
   "metadata": {},
   "source": [
    "# shortReads.fa\n",
    "\n",
    "- skip headers\n",
    "- get average read length\n",
    "- count number of reads\n",
    "- GC content (aggregate)\n",
    "\n",
    "- Write function to work on myDNA.fa"
   ]
  },
  {
   "cell_type": "code",
   "execution_count": null,
   "metadata": {
    "collapsed": true
   },
   "outputs": [],
   "source": [
    "fasta = open(\"Data/myDNA.fa\", \"r\")\n",
    "lines = fasta.readlines()\n",
    "fasta.close()\n",
    "\n",
    "sequences = []\n",
    "for line in lines:\n",
    "    entry = line.rstrip()\n",
    "    \n",
    "    if entry[0]  == \">\":\n",
    "        continue\n",
    "    else:\n",
    "         sequences.append(entry)\n",
    "            \n",
    "\n",
    "lengths = []\n",
    "for sequence in sequences:\n",
    "    lengths.append(len(sequence))\n",
    "\n",
    "\n",
    "minLength = min(lengths)\n",
    "maxLength = max(lengths)\n",
    "avgLength = sum(lengths)/len(lengths)\n",
    "\n",
    "print(\"Total Number of sequences: {}\".format(len(sequences)))\n",
    "print(\"Average Sequence Length: {} bp\".format(int(avgLength)))\n",
    "print(\"Maximum Sequence Length: {} bp\".format(maxLength))\n",
    "print(\"Minimum Sequence Length: {} bp\".format(minLength))"
   ]
  },
  {
   "cell_type": "markdown",
   "metadata": {},
   "source": [
    "# Dictionaries (Hash Tables)\n",
    "\n",
    "list = `[0, 1, 2, three]`\n",
    "\n",
    "dictionary = `{'key':<value>}`"
   ]
  },
  {
   "cell_type": "code",
   "execution_count": 4,
   "metadata": {},
   "outputs": [
    {
     "data": {
      "text/plain": [
       "'meow'"
      ]
     },
     "execution_count": 4,
     "metadata": {},
     "output_type": "execute_result"
    }
   ],
   "source": [
    "animals = {'dog':'woof', 'cat':'meow', 'cow':'moo'}\n",
    "animals['cat']\n",
    "#animals"
   ]
  },
  {
   "cell_type": "code",
   "execution_count": 5,
   "metadata": {},
   "outputs": [
    {
     "name": "stdout",
     "output_type": "stream",
     "text": [
      "dict_keys(['dog', 'cat', 'cow'])\n",
      "dict_values(['woof', 'meow', 'moo'])\n"
     ]
    }
   ],
   "source": [
    "print(animals.keys())\n",
    "print(animals.values())"
   ]
  },
  {
   "cell_type": "code",
   "execution_count": 8,
   "metadata": {},
   "outputs": [
    {
     "name": "stdout",
     "output_type": "stream",
     "text": [
      "woof\n",
      "meow\n",
      "moo\n"
     ]
    }
   ],
   "source": [
    "# keys can be iterated through with a for loop!\n",
    "for animal in animals.keys():\n",
    "    print(animals[animal])"
   ]
  },
  {
   "cell_type": "markdown",
   "metadata": {},
   "source": [
    "## Dictionaries can be complex!"
   ]
  },
  {
   "cell_type": "markdown",
   "metadata": {},
   "source": [
    "Values of dictionary can be a list!"
   ]
  },
  {
   "cell_type": "code",
   "execution_count": 34,
   "metadata": {},
   "outputs": [
    {
     "data": {
      "text/plain": [
       "dict_values([[1, 2, 3, 4], ['a', 'b', 'c']])"
      ]
     },
     "execution_count": 34,
     "metadata": {},
     "output_type": "execute_result"
    }
   ],
   "source": [
    "complexDict = {'numbers':[1,2,3], 'letters':['a', 'b', 'c']}\n",
    "complexDict['numbers'].append(4)\n",
    "complexDict.values()"
   ]
  },
  {
   "cell_type": "code",
   "execution_count": null,
   "metadata": {
    "collapsed": true
   },
   "outputs": [],
   "source": [
    "bases = {'A':0, 'T':0, 'C':0, 'G':0}"
   ]
  },
  {
   "cell_type": "markdown",
   "metadata": {},
   "source": [
    "### Dictionaries are best used to group uniuqe items of similar properties\n",
    "- Values can be updated easily for each key value."
   ]
  },
  {
   "cell_type": "markdown",
   "metadata": {
    "collapsed": true
   },
   "source": [
    "## Expand functionality of our Fasta Parser:\n",
    "\n",
    "- count # of each base"
   ]
  },
  {
   "cell_type": "code",
   "execution_count": 17,
   "metadata": {},
   "outputs": [
    {
     "name": "stdout",
     "output_type": "stream",
     "text": [
      "Total Number of sequences: 10\n",
      "Average Sequence Length: 25 bp\n",
      "Maximum Sequence Length: 25 bp\n",
      "Minimum Sequence Length: 25 bp\n",
      "Number of A's: 63\n",
      "Number of T's: 50\n",
      "Number of C's: 66\n",
      "Number of G's: 71\n"
     ]
    }
   ],
   "source": [
    "#fasta = open(\"Data/myDNA.fa\", \"r\")\n",
    "fasta = open(\"Data/shortReads.fa\", \"r\")\n",
    "lines = fasta.readlines()\n",
    "fasta.close()\n",
    "\n",
    "sequences = []\n",
    "for line in lines:\n",
    "    entry = line.rstrip()\n",
    "    \n",
    "    if entry[0]  == \">\":\n",
    "        continue\n",
    "    else:\n",
    "         sequences.append(entry)\n",
    "            \n",
    "\n",
    "lengths = []\n",
    "bases = {'A':0, 'T':0, 'C':0, 'G':0}\n",
    "for sequence in sequences:\n",
    "    lengths.append(len(sequence))\n",
    "    for base in bases.keys(): \n",
    "        bases[base] += sequence.count(base)\n",
    "    \n",
    "\n",
    "minLength = min(lengths)\n",
    "maxLength = max(lengths)\n",
    "avgLength = sum(lengths)/len(lengths)\n",
    "\n",
    "\n",
    "\n",
    "print(\"Total Number of sequences: {}\".format(len(sequences)))\n",
    "print(\"Average Sequence Length: {} bp\".format(int(avgLength)))\n",
    "print(\"Maximum Sequence Length: {} bp\".format(maxLength))\n",
    "print(\"Minimum Sequence Length: {} bp\".format(minLength))\n",
    "\n",
    "for base in bases.keys(): \n",
    "    print(\"Number of {base}'s: {count}\".format(base = base, count = bases[base]))"
   ]
  },
  {
   "cell_type": "code",
   "execution_count": 27,
   "metadata": {},
   "outputs": [
    {
     "name": "stdout",
     "output_type": "stream",
     "text": [
      "{'A': 3, 'T': 3, 'G': 3, 'C': 3}\n"
     ]
    }
   ],
   "source": [
    "mySequence = 'AAATTTGGGCCC'\n",
    "\n",
    "def countBases(mySequence):\n",
    "    bases = {'A':0, 'T':0, 'G':0, 'C':0}\n",
    "    \n",
    "    bases['A'] = mySequence.count('A')\n",
    "    bases['T'] = mySequence.count('T')\n",
    "    bases['G'] = mySequence.count('G')\n",
    "    bases['C'] = mySequence.count('C')\n",
    "    \n",
    "    return(bases)\n",
    "\n",
    "seqCount = countBases(mySequence)\n",
    "print(seqCount)"
   ]
  },
  {
   "cell_type": "code",
   "execution_count": 21,
   "metadata": {},
   "outputs": [
    {
     "data": {
      "text/plain": [
       "5"
      ]
     },
     "execution_count": 21,
     "metadata": {},
     "output_type": "execute_result"
    }
   ],
   "source": [
    "a = 2\n",
    "b = 3\n",
    "\n",
    "def add(first_variable, second_variable):\n",
    "    mySum = first_variable + second_variable\n",
    "    return(mySum)\n",
    "\n",
    "add(second_variable = a, first_variable = b)"
   ]
  }
 ],
 "metadata": {
  "kernelspec": {
   "display_name": "Python 3",
   "language": "python",
   "name": "python3"
  },
  "language_info": {
   "codemirror_mode": {
    "name": "ipython",
    "version": 3
   },
   "file_extension": ".py",
   "mimetype": "text/x-python",
   "name": "python",
   "nbconvert_exporter": "python",
   "pygments_lexer": "ipython3",
   "version": "3.6.0"
  }
 },
 "nbformat": 4,
 "nbformat_minor": 2
}
